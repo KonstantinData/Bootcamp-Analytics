{
 "cells": [
  {
   "cell_type": "markdown",
   "metadata": {},
   "source": [
    "# My Exploration of Analytics Engineering\n",
    "\n",
    "## First step, creating an environment with dbt (data build tool)\n",
    "\n",
    "dbt does the T in the ELT (Extract, Load, Transform) processes. It doesn´t extract or load the data!\n",
    "It´s extremely good at transforming data that´s already leaded into a warehouse. It enables analytics\n",
    "engineers to transform their warehouse by simply writing select statements. dbt handles turning these \n",
    "select statements into tables and views."
   ]
  },
  {
   "cell_type": "markdown",
   "metadata": {},
   "source": [
    "Step 1: If you already have GitHub installed and, like me, have a repository (repo) for all the topics we covered at Masterschool, you can simply open the main directory and create a practice folder for this topic. If you haven’t set up GitHub yet, you’ll need to do that first."
   ]
  },
  {
   "cell_type": "markdown",
   "metadata": {},
   "source": [
    "Step 2: Creating a Folder Called Analytics_Engineering and Navigate Into It"
   ]
  },
  {
   "cell_type": "code",
   "execution_count": null,
   "metadata": {
    "vscode": {
     "languageId": "plaintext"
    }
   },
   "outputs": [],
   "source": [
    "New-Item -ItemType Directory -Name Analytics_Engineering\n",
    "Set-Location .\\Analytics_Engineering\n"
   ]
  },
  {
   "cell_type": "markdown",
   "metadata": {},
   "source": [
    "Step 3: Create a Python virtual environment"
   ]
  },
  {
   "cell_type": "code",
   "execution_count": null,
   "metadata": {
    "vscode": {
     "languageId": "plaintext"
    }
   },
   "outputs": [],
   "source": [
    "python -m venv py_dbt_env\n"
   ]
  },
  {
   "cell_type": "markdown",
   "metadata": {},
   "source": [
    "Step 4: Activate the virtual environment"
   ]
  },
  {
   "cell_type": "code",
   "execution_count": null,
   "metadata": {
    "vscode": {
     "languageId": "plaintext"
    }
   },
   "outputs": [],
   "source": [
    ".\\py_dbt_env\\Scripts\\Activate.ps1\n"
   ]
  },
  {
   "cell_type": "markdown",
   "metadata": {},
   "source": [
    "Step 5: Install dbt-core\n"
   ]
  },
  {
   "cell_type": "code",
   "execution_count": null,
   "metadata": {
    "vscode": {
     "languageId": "plaintext"
    }
   },
   "outputs": [],
   "source": [
    "pip install dbt-core\n"
   ]
  },
  {
   "cell_type": "markdown",
   "metadata": {},
   "source": [
    "Step 6: Initialize a new dbt project"
   ]
  },
  {
   "cell_type": "code",
   "execution_count": null,
   "metadata": {
    "vscode": {
     "languageId": "plaintext"
    }
   },
   "outputs": [],
   "source": [
    "dbt init . # The dot is medetory!\n"
   ]
  },
  {
   "cell_type": "markdown",
   "metadata": {},
   "source": [
    "Step 7: Enter a name for your project (letters, digits, underscore):"
   ]
  },
  {
   "cell_type": "code",
   "execution_count": null,
   "metadata": {
    "vscode": {
     "languageId": "plaintext"
    }
   },
   "outputs": [],
   "source": [
    "analytics_project # e.g. you can use what ever suits you"
   ]
  },
  {
   "cell_type": "markdown",
   "metadata": {},
   "source": [
    "**Note:** There might be an information: python.exe -m pip install --upgrade pip\n",
    "Copy the code and update python. You can do this before or after the (dbt init .)"
   ]
  },
  {
   "cell_type": "markdown",
   "metadata": {},
   "source": [
    "**Step 8 (Optional): Install the Snowflake Adapter**  \n",
    "\n",
    "If you'd like to use Snowflake, go ahead and install the adapter.  \n",
    "\n",
    "Snowflake provides a scalable, fully managed cloud data warehouse, while dbt simplifies data transformation in Snowflake using version-controlled SQL workflows. Together, they enable efficient, reliable end-to-end data pipeline management, ensuring clean, analytics-ready data.\n",
    "\n",
    "You need to create an account: https://www.snowflake.com/de/"
   ]
  },
  {
   "cell_type": "markdown",
   "metadata": {},
   "source": [
    "**Disclaimer:** This link directs to an external website operated by Snowflake Inc. I am not affiliated with Snowflake and do not have control over its content, policies, or services. Please review Snowflake’s terms of use and privacy policy before engaging with their platform. Any actions you take based on the information provided on their website are at your own discretion."
   ]
  },
  {
   "cell_type": "code",
   "execution_count": null,
   "metadata": {
    "vscode": {
     "languageId": "plaintext"
    }
   },
   "outputs": [],
   "source": [
    "pip install dbt-snowflake\n"
   ]
  },
  {
   "cell_type": "markdown",
   "metadata": {},
   "source": [
    "Step 9: Check your dbt setup"
   ]
  },
  {
   "cell_type": "code",
   "execution_count": null,
   "metadata": {
    "vscode": {
     "languageId": "plaintext"
    }
   },
   "outputs": [],
   "source": [
    "dbt debug\n"
   ]
  }
 ],
 "metadata": {
  "language_info": {
   "name": "python"
  }
 },
 "nbformat": 4,
 "nbformat_minor": 2
}
