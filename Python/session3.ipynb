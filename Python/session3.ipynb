{
 "cells": [
  {
   "cell_type": "code",
   "execution_count": null,
   "metadata": {},
   "outputs": [
    {
     "name": "stdout",
     "output_type": "stream",
     "text": [
      "['product_id', 'product_name', 'price']\n",
      "['1', 'Laptop', '999.99']\n",
      "['2', 'Smartphone', '499.99']\n",
      "['3', 'Headphones', '149.99']\n",
      "['4', 'Mouse', '29.99']\n",
      "['1', 'Laptop', '999.99']\n",
      "['2', 'Smartphone', '499.99']\n",
      "['5', 'Keyboard', '89.99']\n",
      "['3', 'Headphones', '149.99']\n",
      "['6', 'Monitor', '299.99']\n",
      "['1', 'Laptop', '999.99']\n",
      "['7', 'Tablet', '399.99']\n",
      "['2', 'Smartphone', '499.99']\n",
      "['8', 'Printer', '199.99']\n",
      "['3', 'Headphones', '149.99']\n",
      "['5', 'Keyboard', '89.99']\n"
     ]
    }
   ],
   "source": [
    "import csv\n",
    "\n",
    "with open(r\"C:\\Users\\konst\\Downloads\\💾 sales_data_2.csv\", \"r\") as file:\n",
    "    reader = csv.reader(file)\n",
    "\n",
    "    for row in reader:\n",
    "         print(f\"{row[:3]}\")\n"
   ]
  },
  {
   "cell_type": "code",
   "execution_count": null,
   "metadata": {},
   "outputs": [],
   "source": [
    "import csv\n",
    "\n",
    "with open(r\"C:\\Users\\konst\\Downloads\\sales_data_2.csv\", \"r\", encoding=\"utf-8\") as file:\n",
    "    reader = csv.reader(file)\n",
    "\n",
    "    for row in reader:\n",
    "        print(f\"{row[:3]}\")  # ✅ Gibt die ersten 3 Werte der Zeile aus\n"
   ]
  }
 ],
 "metadata": {
  "kernelspec": {
   "display_name": "venv",
   "language": "python",
   "name": "python3"
  },
  "language_info": {
   "codemirror_mode": {
    "name": "ipython",
    "version": 3
   },
   "file_extension": ".py",
   "mimetype": "text/x-python",
   "name": "python",
   "nbconvert_exporter": "python",
   "pygments_lexer": "ipython3",
   "version": "3.12.6"
  }
 },
 "nbformat": 4,
 "nbformat_minor": 2
}
