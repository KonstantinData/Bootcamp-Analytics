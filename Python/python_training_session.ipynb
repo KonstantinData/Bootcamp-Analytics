{
 "cells": [
  {
   "cell_type": "markdown",
   "metadata": {},
   "source": [
    "# Session1\n"
   ]
  },
  {
   "cell_type": "markdown",
   "metadata": {},
   "source": [
    "## Grundlagen der Dictionaries"
   ]
  },
  {
   "cell_type": "markdown",
   "metadata": {},
   "source": [
    "### Teil 1: Grundlegende Dictionary Operatoren"
   ]
  },
  {
   "cell_type": "markdown",
   "metadata": {},
   "source": [
    "**1.1 Dictionaries erstellen**"
   ]
  },
  {
   "cell_type": "code",
   "execution_count": 9,
   "metadata": {},
   "outputs": [
    {
     "name": "stdout",
     "output_type": "stream",
     "text": [
      "Mein Dictionary 1: {}\n",
      "Person: [{'Vorname': 'Konstantin', 'Nachname': 'Milonas', 'Alter': 55, 'Wohnort': 'Stuttgart'}]\n"
     ]
    }
   ],
   "source": [
    "mein_dict1 = {}\n",
    "person = [\n",
    "    {\"Vorname\":\"Konstantin\", \"Nachname\": \"Milonas\", \"Alter\": 55, \"Wohnort\":\"Stuttgart\"}\n",
    "    ]\n",
    "print(f\"Mein Dictionary 1: {mein_dict1}\")\n",
    "print(f\"Person: {person}\")"
   ]
  },
  {
   "cell_type": "markdown",
   "metadata": {},
   "source": [
    "**1.2 Zugriff auf Dictionary-Werte**"
   ]
  },
  {
   "cell_type": "code",
   "execution_count": 27,
   "metadata": {},
   "outputs": [
    {
     "name": "stdout",
     "output_type": "stream",
     "text": [
      "Der Name des Studenten ist Max Mustermann\n",
      "Das Alter des Studenten ist 22\n",
      "Er besucht den Informatik Kurs\n",
      "Der Name des Studenten ist Max Mustermann, er ist 22 alt und besucht unter anderem den Informatik Kurs.\n"
     ]
    }
   ],
   "source": [
    "student = {\"name\": \"Max Mustermann\", \"alter\": 22, \"kurse\": [\"Mathematik\", \"Informatik\", \"Statistik\"]}\n",
    "\n",
    "print(f\"Der Name des Studenten ist {student[\"name\"]}\")\n",
    "print(f\"Das Alter des Studenten ist {student[\"alter\"]}\")\n",
    "print(f\"Er besucht den {student[\"kurse\"][1]} Kurs\")\n",
    "\n",
    "print(f\"Der Name des Studenten ist {student[\"name\"]}, er ist {student[\"alter\"]} alt und besucht unter anderem den {student[\"kurse\"][1]} Kurs.\")"
   ]
  },
  {
   "cell_type": "markdown",
   "metadata": {},
   "source": [
    "**1.3 Dictionaries bearbeiten**"
   ]
  },
  {
   "cell_type": "code",
   "execution_count": 33,
   "metadata": {},
   "outputs": [
    {
     "name": "stdout",
     "output_type": "stream",
     "text": [
      "{'name': 'Anna Schmidt', 'email': 'anna@beispiel.com', 'telefon': '0123456789'}\n",
      "{'name': 'Anna Schmidt', 'email': 'anna@beispiel.com', 'telefon': '0123456789', 'Adresse': 'Lilienstrasse 10'}\n",
      "{'name': 'Anna Schmidt', 'email': 'anna@beispiel.com', 'Adresse': 'Lilienstrasse 10'}\n"
     ]
    }
   ],
   "source": [
    "kontakt = {\"name\": \"Anna Schmidt\", \"email\": \"anna@example.com\", \"telefon\": \"0123456789\"}\n",
    "\n",
    "kontakt[\"email\"] = \"anna@beispiel.com\"\n",
    "print(kontakt)\n",
    "kontakt[\"Adresse\"] = \"Lilienstrasse 10\"\n",
    "print(kontakt)\n",
    "del(kontakt[\"telefon\"])\n",
    "print(kontakt)\n"
   ]
  },
  {
   "cell_type": "markdown",
   "metadata": {},
   "source": [
    "**1.4 Durch Dictionaries iterieren**"
   ]
  },
  {
   "cell_type": "code",
   "execution_count": 243,
   "metadata": {},
   "outputs": [
    {
     "name": "stdout",
     "output_type": "stream",
     "text": [
      "dict_items([('name', 'Laptop'), ('marke', 'TechBrand'), ('preis', 999.99), ('auf_lager', True), ('tags', ['elektronik', 'computer', 'arbeit'])])\n",
      "dict_keys(['name', 'marke', 'preis', 'auf_lager', 'tags'])\n",
      "dict_values(['Laptop', 'TechBrand', 999.99, True, ['elektronik', 'computer', 'arbeit']])\n",
      "der Key (Farbe) ist nicht in produkt enthalten\n"
     ]
    }
   ],
   "source": [
    "produkt = {\n",
    "    \"name\": \"Laptop\",\n",
    "    \"marke\": \"TechBrand\",\n",
    "    \"preis\": 999.99,\n",
    "    \"auf_lager\": True,\n",
    "    \"tags\": [\"elektronik\", \"computer\", \"arbeit\"]\n",
    "}\n",
    "\n",
    "# Alle Schlüssel und Werte ausgeben mit der items()-Methode\n",
    "print(produkt.items())\n",
    "# Nur die Schlüssel ausgeben\n",
    "print(produkt.keys())\n",
    "# Nur die Werte ausgeben\n",
    "print(produkt.values())\n",
    "# Überprüfen Sie, ob \"farbe\" im Dictionary ist\n",
    "if \"farbe\" in produkt:\n",
    "    print(\"Der Key (Farbe) ist in produkts enthalten\")\n",
    "else:\n",
    "    print(\"der Key (Farbe) ist nicht in produkt enthalten\")"
   ]
  },
  {
   "cell_type": "markdown",
   "metadata": {},
   "source": [
    "## Extra Aufgaben"
   ]
  },
  {
   "cell_type": "markdown",
   "metadata": {},
   "source": [
    "### **2.1 Datenanalyse mit Dictionaries**"
   ]
  },
  {
   "cell_type": "markdown",
   "metadata": {},
   "source": []
  },
  {
   "cell_type": "code",
   "execution_count": 2,
   "metadata": {},
   "outputs": [],
   "source": [
    "import pandas as pd\n",
    "import numpy as np\n",
    "import sqlite3\n",
    "import pandasql as ps\n"
   ]
  },
  {
   "cell_type": "code",
   "execution_count": 5,
   "metadata": {},
   "outputs": [
    {
     "name": "stdout",
     "output_type": "stream",
     "text": [
      "   produkt_id produkt_name   preis  menge zeitpunkt\n",
      "0           1       Laptop  999.99      3     10:15\n",
      "1           2   Smartphone  499.99      5     11:30\n",
      "2           3    Kopfhörer  149.99      2     12:20\n",
      "3           1       Laptop  999.99      1     14:45\n",
      "4           4         Maus   29.99      8     15:10\n",
      "5           2   Smartphone  499.99      3     16:30\n",
      "6           5     Tastatur   79.99      4     17:20\n",
      "   produkt_id produkt_name   preis  menge zeitpunkt   umsatz\n",
      "0           1       Laptop  999.99      3     10:15  2999.97\n",
      "1           2   Smartphone  499.99      5     11:30  2499.95\n",
      "2           3    Kopfhörer  149.99      2     12:20   299.98\n",
      "3           1       Laptop  999.99      1     14:45   999.99\n",
      "4           4         Maus   29.99      8     15:10   239.92\n",
      "5           2   Smartphone  499.99      3     16:30  1499.97\n",
      "6           5     Tastatur   79.99      4     17:20   319.96\n",
      "------------------------------------------------------------\n",
      "Der Tagesumsatz beläuft sich auf: 8859.74 Euro\n"
     ]
    }
   ],
   "source": [
    "# Verkaufsdaten für einen Tag in einem Geschäft\n",
    "verkäufe = [\n",
    "    {\"produkt_id\": 1, \"produkt_name\": \"Laptop\", \"preis\": 999.99, \"menge\": 3, \"zeitpunkt\": \"10:15\"},\n",
    "    {\"produkt_id\": 2, \"produkt_name\": \"Smartphone\", \"preis\": 499.99, \"menge\": 5, \"zeitpunkt\": \"11:30\"},\n",
    "    {\"produkt_id\": 3, \"produkt_name\": \"Kopfhörer\", \"preis\": 149.99, \"menge\": 2, \"zeitpunkt\": \"12:20\"},\n",
    "    {\"produkt_id\": 1, \"produkt_name\": \"Laptop\", \"preis\": 999.99, \"menge\": 1, \"zeitpunkt\": \"14:45\"},\n",
    "    {\"produkt_id\": 4, \"produkt_name\": \"Maus\", \"preis\": 29.99, \"menge\": 8, \"zeitpunkt\": \"15:10\"},\n",
    "    {\"produkt_id\": 2, \"produkt_name\": \"Smartphone\", \"preis\": 499.99, \"menge\": 3, \"zeitpunkt\": \"16:30\"},\n",
    "    {\"produkt_id\": 5, \"produkt_name\": \"Tastatur\", \"preis\": 79.99, \"menge\": 4, \"zeitpunkt\": \"17:20\"}\n",
    "]\n",
    "\n",
    "# 1. Berechnen Sie den Gesamtumsatz für den Tag\n",
    "df = pd.DataFrame(verkäufe)\n",
    "print(df)\n",
    "\n",
    "df_umsatz = df[\"umsatz\"] = df[\"preis\"]*df[\"menge\"]\n",
    "print(df)\n",
    "print(\"----\" * 15)\n",
    "print(f\"Der Tagesumsatz beläuft sich auf: {sum(df_umsatz)} Euro\")\n",
    "\n"
   ]
  },
  {
   "cell_type": "code",
   "execution_count": null,
   "metadata": {},
   "outputs": [
    {
     "name": "stdout",
     "output_type": "stream",
     "text": [
      "   produkt_id produkt_name   preis  menge zeitpunkt   umsatz\n",
      "0           1       Laptop  999.99      3     10:15  2999.97\n",
      "1           2   Smartphone  499.99      5     11:30  2499.95\n",
      "2           3    Kopfhörer  149.99      2     12:20   299.98\n",
      "3           1       Laptop  999.99      1     14:45   999.99\n",
      "4           4         Maus   29.99      8     15:10   239.92\n",
      "5           2   Smartphone  499.99      3     16:30  1499.97\n",
      "6           5     Tastatur   79.99      4     17:20   319.96\n",
      "[{'produkt_id': 1, 'produkt_name': 'Laptop', 'sum(umsatz)': 3999.96}, {'produkt_id': 2, 'produkt_name': 'Smartphone', 'sum(umsatz)': 3999.92}, {'produkt_id': 3, 'produkt_name': 'Kopfhörer', 'sum(umsatz)': 299.98}, {'produkt_id': 4, 'produkt_name': 'Maus', 'sum(umsatz)': 239.92}, {'produkt_id': 5, 'produkt_name': 'Tastatur', 'sum(umsatz)': 319.96}]\n"
     ]
    }
   ],
   "source": [
    "# 2. Berechnen Sie den Umsatz pro Produkt und speichern Sie das Ergebnis in einem Dictionary\n",
    "\n",
    "query = \"SELECT * FROM df\"\n",
    "\n",
    "result = ps.sqldf(query, locals())\n",
    "\n",
    "print(result)\n",
    "\n",
    "\n",
    "query = \"SELECT produkt_id, produkt_name ,sum(umsatz) FROM df GROUP BY produkt_id\"\n",
    "\n",
    "result = ps.sqldf(query, locals())\n",
    "\n",
    "result_dict = result.to_dict(orient=\"records\")\n",
    "\n",
    "print(result_dict)\n",
    "\n"
   ]
  },
  {
   "cell_type": "code",
   "execution_count": 32,
   "metadata": {},
   "outputs": [],
   "source": [
    "# Format: {produkt_name: umsatz} ? Was ist hier gemeint ?\n"
   ]
  },
  {
   "cell_type": "code",
   "execution_count": null,
   "metadata": {},
   "outputs": [
    {
     "name": "stdout",
     "output_type": "stream",
     "text": [
      "   produkt_id produkt_name  sum(menge)\n",
      "0           4         Maus           8\n",
      "1           2   Smartphone           8\n",
      "2           5     Tastatur           4\n",
      "3           1       Laptop           4\n",
      "4           3    Kopfhörer           2\n"
     ]
    }
   ],
   "source": [
    "# 3. Identifizieren Sie das meistverkaufte Produkt (nach Menge)\n",
    "\n",
    "query = \"SELECT produkt_id, produkt_name ,sum(menge) FROM df GROUP BY produkt_id ORDER BY sum(menge) DESC\"\n",
    "\n",
    "result = ps.sqldf(query, locals())\n",
    "\n",
    "print(result)"
   ]
  },
  {
   "cell_type": "code",
   "execution_count": null,
   "metadata": {},
   "outputs": [
    {
     "name": "stdout",
     "output_type": "stream",
     "text": [
      "   produkt_id produkt_name   preis  menge zeitpunkt   umsatz\n",
      "0           1       Laptop  999.99      3     10:15  2999.97\n",
      "1           2   Smartphone  499.99      5     11:30  2499.95\n",
      "2           3    Kopfhörer  149.99      2     12:20   299.98\n",
      "3           1       Laptop  999.99      1     14:45   999.99\n",
      "4           4         Maus   29.99      8     15:10   239.92\n",
      "5           2   Smartphone  499.99      3     16:30  1499.97\n",
      "6           5     Tastatur   79.99      4     17:20   319.96\n"
     ]
    }
   ],
   "source": [
    "# 4. Erstellen Sie eine Stundenzusammenfassung, die zeigt, wie viele Produkte pro Stunde verkauft wurden\n",
    "query = \"SELECT *,\" \\\n",
    "\"   CASE \" \\\n",
    "\"       WHEN zeitpunkt BETWEEN 10:00 AND 12:00 THEN SUM(umsatz) AS umsatz_\" \\\n",
    "\"       WHEN zeitpunkt BETWEEN 11:00 AND 13:00 THEN SUM(umsatz)\" \\\n",
    "\"       WHEN zeitpunkt BETWEEN 14:00 AND 15:00 THEN SUM(umsatz)\" \\\n",
    "\"FROM df \"\n",
    "\n",
    "result = ps.sqldf(query, locals())\n",
    "\n",
    "print(result)"
   ]
  },
  {
   "cell_type": "code",
   "execution_count": null,
   "metadata": {},
   "outputs": [
    {
     "name": "stdout",
     "output_type": "stream",
     "text": [
      "     stunde  gesamtmenge\n",
      "0  10:00:00            3\n",
      "1  11:00:00            5\n",
      "2  12:00:00            2\n",
      "3  14:00:00            1\n",
      "4  15:00:00            8\n",
      "5  16:00:00            3\n",
      "6  17:00:00            4\n"
     ]
    }
   ],
   "source": [
    "# 4. Erstellen Sie eine Stundenzusammenfassung, die zeigt, wie viele Produkte pro Stunde verkauft wurden\n",
    "# Tipp: Extrahieren Sie die Stunde aus dem \"zeitpunkt\" (z.B. \"10:15\" -> 10)\n",
    "# Format: {stunde: anzahl_verkäufe}\n",
    "query = \"SELECT strftime('%H:00:00', zeitpunkt) AS stunde, \" \\\n",
    "\"       SUM(menge) AS gesamtmenge\" \\\n",
    "\"       FROM df GROUP BY stunde ORDER BY stunde\"\n",
    "\n",
    "result = ps.sqldf(query, locals())\n",
    "\n",
    "print(result)"
   ]
  },
  {
   "cell_type": "code",
   "execution_count": null,
   "metadata": {},
   "outputs": [
    {
     "name": "stdout",
     "output_type": "stream",
     "text": [
      "{'Kopfhörer': {'menge': 2}, 'Laptop': {'menge': 1}, 'Maus': {'menge': 8}, 'Smartphone': {'menge': 3}, 'Tastatur': {'menge': 4}}\n"
     ]
    }
   ],
   "source": [
    "import pandasql as ps\n",
    "import pandas as pd\n",
    "\n",
    "query = \"\"\"\n",
    "SELECT produkt_name, menge,\n",
    "       ROW_NUMBER() OVER (PARTITION BY produkt_name ORDER BY produkt_id) AS row_num\n",
    "FROM df\n",
    "\"\"\"\n",
    "\n",
    "result = ps.sqldf(query, locals())\n",
    "\n",
    "product_dict = {}\n",
    "\n",
    "# Korrekte Ausgabe\n",
    "for index, row in result.iterrows():\n",
    "    product_dict[row[\"produkt_name\"]] = {\"menge\": row[\"menge\"]}\n",
    "\n",
    "result_dict = result.to_dict(orient=\"records\")\n",
    "\n",
    "print(product_dict)\n",
    "\n"
   ]
  },
  {
   "cell_type": "markdown",
   "metadata": {},
   "source": [
    "### **Umwandlung Datenstrukturen**"
   ]
  },
  {
   "cell_type": "code",
   "execution_count": 54,
   "metadata": {},
   "outputs": [
    {
     "name": "stdout",
     "output_type": "stream",
     "text": [
      "{101: {'name': 'Laptop', 'preis': 999.99, 'bestand': 15}, 102: {'name': 'Smartphone', 'preis': 499.99, 'bestand': 25}, 103: {'name': 'Kopfhörer', 'preis': 149.99, 'bestand': 30}, 104: {'name': 'Monitor', 'preis': 299.99, 'bestand': 10}, 105: {'name': 'Tastatur', 'preis': 79.99, 'bestand': 40}}\n",
      "Das Produkt mit der ID 103 ist: Kopfhörer\n"
     ]
    }
   ],
   "source": [
    "# Produktliste\n",
    "produkt_liste = [\n",
    "    {\"id\": 101, \"name\": \"Laptop\", \"preis\": 999.99, \"bestand\": 15},\n",
    "    {\"id\": 102, \"name\": \"Smartphone\", \"preis\": 499.99, \"bestand\": 25},\n",
    "    {\"id\": 103, \"name\": \"Kopfhörer\", \"preis\": 149.99, \"bestand\": 30},\n",
    "    {\"id\": 104, \"name\": \"Monitor\", \"preis\": 299.99, \"bestand\": 10},\n",
    "    {\"id\": 105, \"name\": \"Tastatur\", \"preis\": 79.99, \"bestand\": 40}\n",
    "]\n",
    "\n",
    "# Umwandlung der Liste in ein Dictionary, ohne Schlüssel manuell aufzulisten\n",
    "produkt_dict = {produkt.pop(\"id\"): produkt for produkt in produkt_liste}\n",
    "\n",
    "# Ausgabe des erstellten Dictionaries\n",
    "print(produkt_dict)\n",
    "\n",
    "# Schnelleren Zugriff demonstrieren: Name des Produkts mit ID 103 abrufen\n",
    "produkt_id = 103\n",
    "if produkt_id in produkt_dict:\n",
    "    print(f\"Das Produkt mit der ID {produkt_id} ist: {produkt_dict[produkt_id]['name']}\")\n",
    "else:\n",
    "    print(f\"Produkt mit ID {produkt_id} nicht gefunden.\")\n"
   ]
  }
 ],
 "metadata": {
  "kernelspec": {
   "display_name": "venv",
   "language": "python",
   "name": "python3"
  },
  "language_info": {
   "codemirror_mode": {
    "name": "ipython",
    "version": 3
   },
   "file_extension": ".py",
   "mimetype": "text/x-python",
   "name": "python",
   "nbconvert_exporter": "python",
   "pygments_lexer": "ipython3",
   "version": "3.12.6"
  }
 },
 "nbformat": 4,
 "nbformat_minor": 2
}
