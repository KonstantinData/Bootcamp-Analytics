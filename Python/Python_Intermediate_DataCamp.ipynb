{
 "cells": [
  {
   "cell_type": "markdown",
   "metadata": {},
   "source": [
    "# Basic plots with Matplotlib\n",
    "\n",
    "- Visualization\n",
    "- Data Structure\n",
    "- Control Structures\n",
    "- Case Study"
   ]
  },
  {
   "cell_type": "markdown",
   "metadata": {},
   "source": [
    "## Data visualization\n",
    "\n",
    "## Matplotlib"
   ]
  },
  {
   "cell_type": "code",
   "execution_count": 469,
   "metadata": {},
   "outputs": [],
   "source": [
    "import matplotlib.pyplot as plt\n",
    "\n"
   ]
  },
  {
   "cell_type": "markdown",
   "metadata": {},
   "source": [
    "#### Line Plot"
   ]
  },
  {
   "cell_type": "code",
   "execution_count": 470,
   "metadata": {},
   "outputs": [
    {
     "name": "stdout",
     "output_type": "stream",
     "text": [
      "2010\n",
      "6.972\n"
     ]
    },
    {
     "data": {
      "image/png": "[encoded data removed]",
      "text/plain": [
       "<Figure size 640x480 with 1 Axes>"
      ]
     },
     "metadata": {},
     "output_type": "display_data"
    }
   ],
   "source": [
    "year = [1950, 1970, 1990, 2010]\n",
    "pop = [2.519, 3.692, 5.263, 6.972]\n",
    "print(year[-1])\n",
    "print(pop[-1]) \n",
    "plt.plot(year, pop  ) \n",
    "plt.show()"
   ]
  },
  {
   "cell_type": "markdown",
   "metadata": {},
   "source": [
    "#### Scatter Plot"
   ]
  },
  {
   "cell_type": "code",
   "execution_count": 471,
   "metadata": {},
   "outputs": [
    {
     "data": {
      "image/png": "[encoded data removed]",
      "text/plain": [
       "<Figure size 640x480 with 1 Axes>"
      ]
     },
     "metadata": {},
     "output_type": "display_data"
    }
   ],
   "source": [
    "year = [1950, 1970, 1990, 2010]\n",
    "pop = [2.519, 3.692, 5.263, 6.972]\n",
    "plt.scatter(year, pop)\n",
    "plt.show()"
   ]
  },
  {
   "cell_type": "markdown",
   "metadata": {},
   "source": [
    "#### Histogram\n",
    "- Explore dataset\n",
    "- Get idea about distribution (Verteilung)"
   ]
  },
  {
   "cell_type": "code",
   "execution_count": 472,
   "metadata": {},
   "outputs": [
    {
     "name": "stdout",
     "output_type": "stream",
     "text": [
      "Help on function hist in module matplotlib.pyplot:\n",
      "\n",
      "hist(x: 'ArrayLike | Sequence[ArrayLike]', bins: 'int | Sequence[float] | str | None' = None, *, range: 'tuple[float, float] | None' = None, density: 'bool' = False, weights: 'ArrayLike | None' = None, cumulative: 'bool | float' = False, bottom: 'ArrayLike | float | None' = None, histtype: \"Literal['bar', 'barstacked', 'step', 'stepfilled']\" = 'bar', align: \"Literal['left', 'mid', 'right']\" = 'mid', orientation: \"Literal['vertical', 'horizontal']\" = 'vertical', rwidth: 'float | None' = None, log: 'bool' = False, color: 'ColorType | Sequence[ColorType] | None' = None, label: 'str | Sequence[str] | None' = None, stacked: 'bool' = False, data=None, **kwargs) -> 'tuple[np.ndarray | list[np.ndarray], np.ndarray, BarContainer | Polygon | list[BarContainer | Polygon]]'\n",
      "    Compute and plot a histogram.\n",
      "\n",
      "    This method uses `numpy.histogram` to bin the data in *x* and count the\n",
      "    number of values in each bin, then draws the distribution either as a\n",
      "    `.BarContainer` or `.Polygon`. The *bins*, *range*, *density*, and\n",
      "    *weights* parameters are forwarded to `numpy.histogram`.\n",
      "\n",
      "    If the data has already been binned and counted, use `~.bar` or\n",
      "    `~.stairs` to plot the distribution::\n",
      "\n",
      "        counts, bins = np.histogram(x)\n",
      "        plt.stairs(counts, bins)\n",
      "\n",
      "    Alternatively, plot pre-computed bins and counts using ``hist()`` by\n",
      "    treating each bin as a single point with a weight equal to its count::\n",
      "\n",
      "        plt.hist(bins[:-1], bins, weights=counts)\n",
      "\n",
      "    The data input *x* can be a singular array, a list of datasets of\n",
      "    potentially different lengths ([*x0*, *x1*, ...]), or a 2D ndarray in\n",
      "    which each column is a dataset. Note that the ndarray form is\n",
      "    transposed relative to the list form. If the input is an array, then\n",
      "    the return value is a tuple (*n*, *bins*, *patches*); if the input is a\n",
      "    sequence of arrays, then the return value is a tuple\n",
      "    ([*n0*, *n1*, ...], *bins*, [*patches0*, *patches1*, ...]).\n",
      "\n",
      "    Masked arrays are not supported.\n",
      "\n",
      "    Parameters\n",
      "    ----------\n",
      "    x : (n,) array or sequence of (n,) arrays\n",
      "        Input values, this takes either a single array or a sequence of\n",
      "        arrays which are not required to be of the same length.\n",
      "\n",
      "    bins : int or sequence or str, default: :rc:`hist.bins`\n",
      "        If *bins* is an integer, it defines the number of equal-width bins\n",
      "        in the range.\n",
      "\n",
      "        If *bins* is a sequence, it defines the bin edges, including the\n",
      "        left edge of the first bin and the right edge of the last bin;\n",
      "        in this case, bins may be unequally spaced.  All but the last\n",
      "        (righthand-most) bin is half-open.  In other words, if *bins* is::\n",
      "\n",
      "            [1, 2, 3, 4]\n",
      "\n",
      "        then the first bin is ``[1, 2)`` (including 1, but excluding 2) and\n",
      "        the second ``[2, 3)``.  The last bin, however, is ``[3, 4]``, which\n",
      "        *includes* 4.\n",
      "\n",
      "        If *bins* is a string, it is one of the binning strategies\n",
      "        supported by `numpy.histogram_bin_edges`: 'auto', 'fd', 'doane',\n",
      "        'scott', 'stone', 'rice', 'sturges', or 'sqrt'.\n",
      "\n",
      "    range : tuple or None, default: None\n",
      "        The lower and upper range of the bins. Lower and upper outliers\n",
      "        are ignored. If not provided, *range* is ``(x.min(), x.max())``.\n",
      "        Range has no effect if *bins* is a sequence.\n",
      "\n",
      "        If *bins* is a sequence or *range* is specified, autoscaling\n",
      "        is based on the specified bin range instead of the\n",
      "        range of x.\n",
      "\n",
      "    density : bool, default: False\n",
      "        If ``True``, draw and return a probability density: each bin\n",
      "        will display the bin's raw count divided by the total number of\n",
      "        counts *and the bin width*\n",
      "        (``density = counts / (sum(counts) * np.diff(bins))``),\n",
      "        so that the area under the histogram integrates to 1\n",
      "        (``np.sum(density * np.diff(bins)) == 1``).\n",
      "\n",
      "        If *stacked* is also ``True``, the sum of the histograms is\n",
      "        normalized to 1.\n",
      "\n",
      "    weights : (n,) array-like or None, default: None\n",
      "        An array of weights, of the same shape as *x*.  Each value in\n",
      "        *x* only contributes its associated weight towards the bin count\n",
      "        (instead of 1).  If *density* is ``True``, the weights are\n",
      "        normalized, so that the integral of the density over the range\n",
      "        remains 1.\n",
      "\n",
      "    cumulative : bool or -1, default: False\n",
      "        If ``True``, then a histogram is computed where each bin gives the\n",
      "        counts in that bin plus all bins for smaller values. The last bin\n",
      "        gives the total number of datapoints.\n",
      "\n",
      "        If *density* is also ``True`` then the histogram is normalized such\n",
      "        that the last bin equals 1.\n",
      "\n",
      "        If *cumulative* is a number less than 0 (e.g., -1), the direction\n",
      "        of accumulation is reversed.  In this case, if *density* is also\n",
      "        ``True``, then the histogram is normalized such that the first bin\n",
      "        equals 1.\n",
      "\n",
      "    bottom : array-like, scalar, or None, default: None\n",
      "        Location of the bottom of each bin, i.e. bins are drawn from\n",
      "        ``bottom`` to ``bottom + hist(x, bins)`` If a scalar, the bottom\n",
      "        of each bin is shifted by the same amount. If an array, each bin\n",
      "        is shifted independently and the length of bottom must match the\n",
      "        number of bins. If None, defaults to 0.\n",
      "\n",
      "    histtype : {'bar', 'barstacked', 'step', 'stepfilled'}, default: 'bar'\n",
      "        The type of histogram to draw.\n",
      "\n",
      "        - 'bar' is a traditional bar-type histogram.  If multiple data\n",
      "          are given the bars are arranged side by side.\n",
      "        - 'barstacked' is a bar-type histogram where multiple\n",
      "          data are stacked on top of each other.\n",
      "        - 'step' generates a lineplot that is by default unfilled.\n",
      "        - 'stepfilled' generates a lineplot that is by default filled.\n",
      "\n",
      "    align : {'left', 'mid', 'right'}, default: 'mid'\n",
      "        The horizontal alignment of the histogram bars.\n",
      "\n",
      "        - 'left': bars are centered on the left bin edges.\n",
      "        - 'mid': bars are centered between the bin edges.\n",
      "        - 'right': bars are centered on the right bin edges.\n",
      "\n",
      "    orientation : {'vertical', 'horizontal'}, default: 'vertical'\n",
      "        If 'horizontal', `~.Axes.barh` will be used for bar-type histograms\n",
      "        and the *bottom* kwarg will be the left edges.\n",
      "\n",
      "    rwidth : float or None, default: None\n",
      "        The relative width of the bars as a fraction of the bin width.  If\n",
      "        ``None``, automatically compute the width.\n",
      "\n",
      "        Ignored if *histtype* is 'step' or 'stepfilled'.\n",
      "\n",
      "    log : bool, default: False\n",
      "        If ``True``, the histogram axis will be set to a log scale.\n",
      "\n",
      "    color : :mpltype:`color` or list of :mpltype:`color` or None, default: None\n",
      "        Color or sequence of colors, one per dataset.  Default (``None``)\n",
      "        uses the standard line color sequence.\n",
      "\n",
      "    label : str or list of str, optional\n",
      "        String, or sequence of strings to match multiple datasets.  Bar\n",
      "        charts yield multiple patches per dataset, but only the first gets\n",
      "        the label, so that `~.Axes.legend` will work as expected.\n",
      "\n",
      "    stacked : bool, default: False\n",
      "        If ``True``, multiple data are stacked on top of each other If\n",
      "        ``False`` multiple data are arranged side by side if histtype is\n",
      "        'bar' or on top of each other if histtype is 'step'\n",
      "\n",
      "    Returns\n",
      "    -------\n",
      "    n : array or list of arrays\n",
      "        The values of the histogram bins. See *density* and *weights* for a\n",
      "        description of the possible semantics.  If input *x* is an array,\n",
      "        then this is an array of length *nbins*. If input is a sequence of\n",
      "        arrays ``[data1, data2, ...]``, then this is a list of arrays with\n",
      "        the values of the histograms for each of the arrays in the same\n",
      "        order.  The dtype of the array *n* (or of its element arrays) will\n",
      "        always be float even if no weighting or normalization is used.\n",
      "\n",
      "    bins : array\n",
      "        The edges of the bins. Length nbins + 1 (nbins left edges and right\n",
      "        edge of last bin).  Always a single array even when multiple data\n",
      "        sets are passed in.\n",
      "\n",
      "    patches : `.BarContainer` or list of a single `.Polygon` or list of such objects\n",
      "        Container of individual artists used to create the histogram\n",
      "        or list of such containers if there are multiple input datasets.\n",
      "\n",
      "    Other Parameters\n",
      "    ----------------\n",
      "    data : indexable object, optional\n",
      "        If given, the following parameters also accept a string ``s``, which is\n",
      "        interpreted as ``data[s]`` if ``s`` is a key in ``data``:\n",
      "\n",
      "        *x*, *weights*\n",
      "\n",
      "    **kwargs\n",
      "        `~matplotlib.patches.Patch` properties. The following properties\n",
      "        additionally accept a sequence of values corresponding to the\n",
      "        datasets in *x*:\n",
      "        *edgecolor*, *facecolor*, *linewidth*, *linestyle*, *hatch*.\n",
      "\n",
      "        .. versionadded:: 3.10\n",
      "           Allowing sequences of values in above listed Patch properties.\n",
      "\n",
      "    See Also\n",
      "    --------\n",
      "    hist2d : 2D histogram with rectangular bins\n",
      "    hexbin : 2D histogram with hexagonal bins\n",
      "    stairs : Plot a pre-computed histogram\n",
      "    bar : Plot a pre-computed histogram\n",
      "\n",
      "    Notes\n",
      "    -----\n",
      "\n",
      "    .. note::\n",
      "\n",
      "        This is the :ref:`pyplot wrapper <pyplot_interface>` for `.axes.Axes.hist`.\n",
      "\n",
      "    For large numbers of bins (>1000), plotting can be significantly\n",
      "    accelerated by using `~.Axes.stairs` to plot a pre-computed histogram\n",
      "    (``plt.stairs(*np.histogram(data))``), or by setting *histtype* to\n",
      "    'step' or 'stepfilled' rather than 'bar' or 'barstacked'.\n",
      "\n"
     ]
    }
   ],
   "source": [
    "help(plt.hist)"
   ]
  },
  {
   "cell_type": "code",
   "execution_count": 473,
   "metadata": {},
   "outputs": [
    {
     "data": {
      "image/png": "[encoded data removed]",
      "text/plain": [
       "<Figure size 640x480 with 1 Axes>"
      ]
     },
     "metadata": {},
     "output_type": "display_data"
    }
   ],
   "source": [
    "values = [0, 0.6, 1.4, 1.6, 2.2, 2.5, 2.6, 3.2, 3.5, 3.9, 4.2, 6]\n",
    "plt.hist(values, bins=3)\n",
    "plt.show()\n"
   ]
  },
  {
   "cell_type": "markdown",
   "metadata": {},
   "source": [
    "## Customize plots"
   ]
  },
  {
   "cell_type": "code",
   "execution_count": 474,
   "metadata": {},
   "outputs": [
    {
     "data": {
      "image/png": "[encoded data removed]",
      "text/plain": [
       "<Figure size 640x480 with 1 Axes>"
      ]
     },
     "metadata": {},
     "output_type": "display_data"
    }
   ],
   "source": [
    "year = [1950, 1970, 1990, 2010]\n",
    "pop = [2.519, 3.692, 5.263, 6.972]\n",
    "\n",
    "\n",
    "#Add more data\n",
    "year = [1900, 1910, 1920, 1930, 1940] + year\n",
    "pop = [0.3, 0.662, 0.870, 0.919, 1.692] + pop\n",
    "\n",
    "plt.xlabel('Year')\n",
    "plt.ylabel('Population')\n",
    "\n",
    "plt.title('World Population Projections')\n",
    "\n",
    "plt.yticks([0,2,4,6,8,10], \n",
    "['0', '2B', '4B', '6B', '8B', '10B'])\n",
    "\n",
    "# Definition of tick_val and tick_lab\n",
    "tick_val = [1900, 1920, 1940, 1960, 1980, 2000, 2020]\n",
    "tick_lab = ['1900s', '1920s', '1940s', '1960s', '1980s', '2000s', '2020s']\n",
    "\n",
    "# Create a scatter plot\n",
    "plt.scatter(year, pop)\n",
    "plt.show() #All udjustments musst be made before the plot is shown"
   ]
  },
  {
   "cell_type": "code",
   "execution_count": 475,
   "metadata": {},
   "outputs": [
    {
     "data": {
      "image/png": "[encoded data removed]",
      "text/plain": [
       "<Figure size 640x480 with 1 Axes>"
      ]
     },
     "metadata": {},
     "output_type": "display_data"
    }
   ],
   "source": [
    "import matplotlib.pyplot as plt\n",
    "\n",
    "# Daten definieren\n",
    "year = [1950, 1970, 1990, 2010]\n",
    "pop = [2.519, 3.692, 5.263, 6.972]\n",
    "\n",
    "# Zusätzliche Daten hinzufügen\n",
    "year = [1900, 1910, 1920, 1930, 1940] + year\n",
    "pop = [0.3, 0.662, 0.870, 0.919, 1.692] + pop\n",
    "\n",
    "\n",
    "\n",
    "# Achsenbeschriftungen und Titel\n",
    "plt.xlabel('Year')  # x-Achsen-Beschriftung\n",
    "plt.ylabel('Population')  # y-Achsen-Beschriftung\n",
    "plt.title('World Population Projections')  # Titel des Diagramms\n",
    "\n",
    "# Anpassung der y-Achsen-Ticks (Skalierung und Format)\n",
    "plt.yticks(\n",
    "    [0, 2, 4, 6, 8, 10],  # Werte auf der y-Achse\n",
    "    ['0', '2B', '4B', '6B', '8B', '10B']  # Beschriftungen der y-Achse\n",
    ")\n",
    "\n",
    "# Ticks auf der x-Achse (manuelle Werte und Beschriftungen)\n",
    "tick_val = [1900, 1920, 1940, 1960, 1980, 2000, 2020]\n",
    "tick_lab = ['1900s', '1920s', '1940s', '1960s', '1980s', '2000s', '2020s'] \n",
    "\n",
    "plt.xticks(tick_val, tick_lab) #plt.xticks([1900, 1920, 1940, 1960, 1980, 2000, 2020])\n",
    "\n",
    "\n",
    "# Scatter-Plot erstellen\n",
    "plt.scatter(year, pop)\n",
    "\n",
    "# Diagramm anzeigen\n",
    "plt.show()\n"
   ]
  },
  {
   "cell_type": "markdown",
   "metadata": {},
   "source": [
    "## Dictionaries"
   ]
  },
  {
   "cell_type": "code",
   "execution_count": 476,
   "metadata": {},
   "outputs": [
    {
     "name": "stdout",
     "output_type": "stream",
     "text": [
      "82000000\n",
      "{'Germany': 82000000, 'France': 67000000, 'Italy': 59000000, 'Spain': 47000000, 'United Kingdom': 67000000, 'Poland': 38000000, 'Netherlands': 17000000, 'Belgium': 11000000, 'Greece': 11000000, 'Portugal': 10000000, 'Sweden': 10000000, 'Austria': 8000000, 'Switzerland': 8000000, 'Denmark': 6000000, 'Finland': 6000000, 'Norway': 5300000, 'Ireland': 4700000, 'Croatia': 4000000, 'Mexico': 12000000, 'USA': 330000000, 'Canada': 38000000, 'Russia': 140000000, 'China': 1400000000, 'Japan': 127000000}\n",
      "27\n",
      "{\n",
      "    \"Germany\": 82000000,\n",
      "    \"France\": 67000000,\n",
      "    \"Italy\": 59000000,\n",
      "    \"Spain\": 47000000,\n",
      "    \"United Kingdom\": 67000000,\n",
      "    \"Poland\": 38000000,\n",
      "    \"Netherlands\": 17000000,\n",
      "    \"Belgium\": 11000000,\n",
      "    \"Greece\": 11000000,\n",
      "    \"Portugal\": 10000000,\n",
      "    \"Sweden\": 10000000,\n",
      "    \"Austria\": 8000000,\n",
      "    \"Switzerland\": 8000000,\n",
      "    \"Denmark\": 6000000,\n",
      "    \"Finland\": 6000000,\n",
      "    \"Norway\": 5300000,\n",
      "    \"Ireland\": 4700000,\n",
      "    \"Croatia\": 4000000,\n",
      "    \"Mexico\": 12000000,\n",
      "    \"USA\": 330000000,\n",
      "    \"Canada\": 38000000,\n",
      "    \"Russia\": 140000000,\n",
      "    \"China\": 1400000000,\n",
      "    \"Japan\": 127000000,\n",
      "    \"Sealand\": 27\n",
      "}\n"
     ]
    }
   ],
   "source": [
    "import json\n",
    "\n",
    "world = {\"Germany\":82000000, \"France\":67000000, \"Italy\":59000000, \n",
    "         \"Spain\":47000000, \"United Kingdom\":67000000, \"Poland\":38000000, \n",
    "         \"Netherlands\":17000000, \"Belgium\":11000000, \"Greece\":11000000, \n",
    "         \"Portugal\":10000000, \"Sweden\":10000000, \"Austria\":8000000, \n",
    "         \"Switzerland\":8000000, \"Denmark\":6000000, \"Finland\":6000000, \n",
    "         \"Norway\":5300000, \"Ireland\":4700000, \"Croatia\":4000000, \n",
    "         \"Mexico\":12000000, \"USA\":330000000, \"Canada\":38000000, \"Russia\":140000000, \n",
    "         \"China\":1400000000, \"Japan\":127000000}\n",
    "\n",
    "print(world[\"Germany\"])\n",
    "print(world)\n",
    "\n",
    "world[\"Sealand\"] = 27\n",
    "\n",
    "print(world[\"Sealand\"])\n",
    "print(json.dumps(world, indent=4))"
   ]
  },
  {
   "cell_type": "code",
   "execution_count": 477,
   "metadata": {},
   "outputs": [
    {
     "data": {
      "text/plain": [
       "False"
      ]
     },
     "execution_count": 477,
     "metadata": {},
     "output_type": "execute_result"
    }
   ],
   "source": [
    "del(world[\"Sealand\"])\n",
    "\n",
    "\"Sealand\" in world #checks if Sealand is in world\n"
   ]
  },
  {
   "cell_type": "markdown",
   "metadata": {},
   "source": [
    "### List vs Dictionary in Python: Differences and Use Cases\n",
    "\n",
    "#### **1. Key Differences**\n",
    "\n",
    "| Feature              | **List**                         | **Dictionary**                        |\n",
    "|----------------------|-----------------------------------|---------------------------------------|\n",
    "| **Definition**       | An ordered collection of values. | A collection of key-value pairs.      |\n",
    "| **Access**           | Accessed via **index** (e.g., `list[0]`). | Accessed via **key** (e.g., `dict[\"key\"]`). |\n",
    "| **Order**            | Maintains insertion order (since Python 3.7). | Maintains insertion order (since Python 3.7). |\n",
    "| **Duplicates**       | Allows duplicate values.         | Keys must be unique; values can be duplicated. |\n",
    "| **Mutability**       | Mutable (modifiable).            | Mutable (modifiable).                 |\n",
    "\n",
    "---\n",
    "\n",
    "#### **2. When to Use a List**\n",
    "\n",
    "- Use a **list** when:\n",
    "  - You need to store an **ordered collection** of elements.\n",
    "  - Access to elements based on their **position (index)** is important.\n",
    "  - Frequent updates, additions, or removals of elements are required.\n",
    "  - The data represents a collection of similar items.\n",
    "\n",
    "---\n",
    "\n",
    "#### **3. When to Use a Dictionary**\n",
    "\n",
    "- Use a **dictionary** when:\n",
    "  - You need to store data as **key-value pairs**.\n",
    "  - Access to data based on **unique keys** is important.\n",
    "  - The data doesn't necessarily need to follow a specific order.\n",
    "  - You need a mapping or associative array.\n",
    "\n",
    "---\n",
    "\n",
    "#### **4. Key Use Case Comparison**\n",
    "\n",
    "| **Use Case**                              | **Preferred Data Structure**         |\n",
    "|-------------------------------------------|-------------------------------------|\n",
    "| Store data in a **specific order**         | **List**                           |\n",
    "| Store **attributes or properties**         | **Dictionary**                     |\n",
    "| Access using **numeric indices**           | **List**                           |\n",
    "| Access data via **key-value pairs**        | **Dictionary**                     |\n",
    "| **Duplicates allowed**                     | **List**                           |\n",
    "| Search data by **key**                     | **Dictionary**                     |\n",
    "\n",
    "---\n",
    "\n",
    "### **Summary**\n",
    "\n",
    "- **Lists** are ideal for ordered collections where items are accessed by position.\n",
    "- **Dictionaries** are best for mapping relationships where data is accessed by unique keys.\n",
    "- Choose based on whether you need **order** or **key-value associations**.\n"
   ]
  },
  {
   "cell_type": "markdown",
   "metadata": {},
   "source": [
    "## List"
   ]
  },
  {
   "cell_type": "code",
   "execution_count": 478,
   "metadata": {},
   "outputs": [
    {
     "data": {
      "text/plain": [
       "2.77"
      ]
     },
     "execution_count": 478,
     "metadata": {},
     "output_type": "execute_result"
    }
   ],
   "source": [
    "pop = [30.55, 2.77, 39.21]\n",
    "countries = [\"afghanistan\", \"albania\", \"algeria\"]\n",
    "ind_alb = countries.index(\"albania\")\n",
    "ind_alb\n",
    "\n",
    "pop[ind_alb]\n",
    "\n",
    "# Not convenient!\n",
    "# Not intuitive!\n"
   ]
  },
  {
   "cell_type": "code",
   "execution_count": 479,
   "metadata": {},
   "outputs": [
    {
     "name": "stdout",
     "output_type": "stream",
     "text": [
      "2.77\n"
     ]
    }
   ],
   "source": [
    "# Create a dictionary\n",
    "world = {\"afghanistan\": 30.55, \"albania\": 2.77, \"algeria\": 39.21}\n",
    "print(world[\"albania\"])"
   ]
  },
  {
   "cell_type": "markdown",
   "metadata": {},
   "source": [
    "> Keys have to be \"Immutable\" objects. (unveränderlich)"
   ]
  },
  {
   "cell_type": "code",
   "execution_count": 480,
   "metadata": {},
   "outputs": [
    {
     "name": "stdout",
     "output_type": "stream",
     "text": [
      "id(x): 140729794038296\n",
      "id(y): 140729794038296\n",
      "id(x): 140729794038360\n",
      "id(y): 140729794038296\n"
     ]
    }
   ],
   "source": [
    "x = 4 # 4 is an Object of type \"Integer\" X is the variable which references the Object\n",
    "id(x) # Returns the memory address of the Object\n",
    "\n",
    "print(\"id(x):\", id(x))\n",
    "\n",
    "y = x\n",
    "print(\"id(y):\", id(y)) # y references the same Object as x\n",
    "\n",
    "x = x + 2 # is creating a new object\n",
    "print(\"id(x):\", id(x)) # x references a different Object than y \n",
    "print(\"id(y):\", id(y)) # y still references the original Object\n",
    "\n",
    "# The Integer object is immutable, so when we add 2 to it, a new object is created\n",
    "# The variable x now references this new object, while the original object is still \n",
    "# available for garbage collection\n",
    "\n",
    "\n",
    "\n",
    "   "
   ]
  },
  {
   "cell_type": "markdown",
   "metadata": {},
   "source": [
    ">Python's **Garbage Collection** automatically removes objects from memory that are no longer in use by using reference counting and a cyclic garbage collector. An object becomes available for garbage collection when its reference count drops to 0 or it is part of a cycle that the garbage collector can detect."
   ]
  },
  {
   "cell_type": "code",
   "execution_count": 481,
   "metadata": {},
   "outputs": [
    {
     "name": "stdout",
     "output_type": "stream",
     "text": [
      "id(test): 140729792951112\n",
      "id(test): 2956730679728\n"
     ]
    }
   ],
   "source": [
    "test = \"abc\" # \"abc\" is an Object of type \"String\" \"test\" is the variable which references the Object\n",
    " \n",
    "print(\"id(test):\", id(test))\n",
    "\n",
    "test = test + \"123\" # is creating a new object\n",
    "print(\"id(test):\", id(test))\n",
    "\n"
   ]
  },
  {
   "cell_type": "code",
   "execution_count": 482,
   "metadata": {},
   "outputs": [
    {
     "name": "stdout",
     "output_type": "stream",
     "text": [
      "[1, 2, 3, 4, 5]\n",
      "id(numbers) 2956792916544\n",
      "[1, 2, 3, 4, 5, 6]\n",
      "id(numbers) 2956792916544\n",
      "[1, 2, 3, 4, 5, 6]\n",
      "id(numbers) 2956792979200\n"
     ]
    }
   ],
   "source": [
    "numbers = [1, 2, 3, 4, 5] # [1,2,3,4,5] is an Object of type \"List\".\n",
    "print(numbers)\n",
    "print(\"id(numbers)\", id(numbers))\n",
    "\n",
    "numbers.append(6) # Even though the List will change, the ID will not change!\n",
    "print(numbers)\n",
    "print(\"id(numbers)\", id(numbers))\n",
    "\n",
    "# The List is a mutable Object. It can be changed.\n",
    "# The ID of the Object will not change.\n",
    "\n",
    "# The ID of the Object will change if we reassign the variable.\n",
    "numbers = [1, 2, 3, 4, 5, 6]\n",
    "print(numbers)  \n",
    "print(\"id(numbers)\", id(numbers))\n"
   ]
  },
  {
   "cell_type": "markdown",
   "metadata": {},
   "source": [
    "**Tuple**\n",
    "\n",
    "> A **tuple** is an immutable data structure in Python that can store multiple values in a fixed order, but if it contains mutable objects like lists, the contents of those objects can still be modified."
   ]
  },
  {
   "cell_type": "code",
   "execution_count": 483,
   "metadata": {},
   "outputs": [
    {
     "name": "stdout",
     "output_type": "stream",
     "text": [
      "([1, 2, 3], ['a', 'b', 'c'], ['Stuttgart', 'Berlin', 'Hamburg'])\n",
      "id tuple_with list: 2956792631936\n"
     ]
    }
   ],
   "source": [
    "tuple_with_list = ([1, 2, 3], [\"a\", \"b\", \"c\"], [\"Stuttgart\", \"Berlin\", \"Hamburg\"])\n",
    "print(tuple_with_list)\n",
    "print(\"id tuple_with list:\", id(tuple_with_list))\n",
    "\n",
    "\n"
   ]
  },
  {
   "cell_type": "markdown",
   "metadata": {},
   "source": [
    "> The lists are mutable, but the ID will stay the same. "
   ]
  },
  {
   "cell_type": "code",
   "execution_count": 484,
   "metadata": {},
   "outputs": [
    {
     "name": "stdout",
     "output_type": "stream",
     "text": [
      "([1, 2, 3, 4], ['a', 'b', 'c'], ['Stuttgart', 'Berlin', 'Hamburg'])\n",
      "id tuple_with list: 2956792631936\n"
     ]
    }
   ],
   "source": [
    "tuple_with_list[0].append(4)\n",
    "print(tuple_with_list)\n",
    "print(\"id tuple_with list:\", id(tuple_with_list))\n"
   ]
  },
  {
   "cell_type": "code",
   "execution_count": 485,
   "metadata": {},
   "outputs": [
    {
     "name": "stdout",
     "output_type": "stream",
     "text": [
      "([1, 2, 3, 4], ['a', 'b', 'c'], ['Stuttgart', 'Berlin', 'Hamburg', 'Frankfurt'])\n",
      "id tuple_with list: 2956792631936\n"
     ]
    }
   ],
   "source": [
    "tuple_with_list[2].append(\"Frankfurt\")\n",
    "print(tuple_with_list)\n",
    "print(\"id tuple_with list:\", id(tuple_with_list))"
   ]
  },
  {
   "cell_type": "markdown",
   "metadata": {},
   "source": [
    "***Immutable Objects***\n",
    "- int\n",
    "- float\n",
    "- complex\n",
    "- str\n",
    "- tuple\n",
    "- frozenset\n",
    "- bytes\n",
    "- bool\n",
    "\n",
    "---\n",
    "\n",
    "***Mutable Objects***\n",
    "- list\n",
    "- dict\n",
    "- set\n",
    "- bytearray\n",
    "- custom objects (if mutable)\n"
   ]
  },
  {
   "cell_type": "markdown",
   "metadata": {},
   "source": [
    "***Immutable Objects (when passed to functions):***\n",
    "- **Behavior:** When immutable objects (like `int`, `str`, etc.) are passed to functions, the function **cannot modify the original object** because it is immutable. If you \"modify\" the value, a new object is created.\n",
    "\n",
    "Examples of immutable objects:\n",
    "- int\n",
    "- float\n",
    "- complex\n",
    "- str\n",
    "- tuple\n",
    "- frozenset\n",
    "- bytes\n",
    "- bool\n",
    "\n",
    "---\n",
    "\n",
    "***Mutable Objects (when passed to functions):***\n",
    "- **Behavior:** When mutable objects (like `list`, `dict`, etc.) are passed to functions, the function **can modify the original object**, because the function gets a reference to the same object in memory.\n",
    "\n",
    "Examples of mutable objects:\n",
    "- list\n",
    "- dict\n",
    "- set\n",
    "- bytearray\n",
    "- custom objects (if mutable)\n",
    "\n",
    "---\n",
    "\n",
    "***Key Concept:***\n",
    "- **Immutable objects:** Functions can't modify the original object (reassignment creates a new object).\n",
    "- **Mutable objects:** Functions can modify the original object directly.\n"
   ]
  },
  {
   "cell_type": "code",
   "execution_count": 486,
   "metadata": {},
   "outputs": [
    {
     "name": "stdout",
     "output_type": "stream",
     "text": [
      "id m before: 140729794038328\n",
      "id m after: 140729794038360\n",
      "id y: 140729794038328\n",
      "5\n"
     ]
    }
   ],
   "source": [
    "def add(m): # m is an Object type \"parameter\" which is an variable\n",
    "    print(f\"id m before: {id(m)}\")\n",
    "    m = m + 1 # m is a local variable which is a new object reference m + 1\n",
    "    print(f\"id m after: {id(m)}\")\n",
    "\n",
    "y = 5 # y storing the object reference which contains the integer object 5\n",
    "add(y) #is calling the function. The reference and not the value is provided\n",
    "print(f\"id y: {id(y)}\") \n",
    "print(y)"
   ]
  },
  {
   "cell_type": "code",
   "execution_count": 487,
   "metadata": {},
   "outputs": [
    {
     "name": "stdout",
     "output_type": "stream",
     "text": [
      "6\n"
     ]
    }
   ],
   "source": [
    "def add(m):\n",
    "    m = m + 1\n",
    "    return m\n",
    "\n",
    "y = 5\n",
    "y = add(y)\n",
    "print(y)"
   ]
  },
  {
   "cell_type": "code",
   "execution_count": 488,
   "metadata": {},
   "outputs": [
    {
     "name": "stdout",
     "output_type": "stream",
     "text": [
      "id m start: 140729794038424\n",
      "9\n",
      "id m new: 140729794038456\n",
      "id m start: 140729794038456\n",
      "10\n",
      "id m new: 140729794038488\n",
      "y = 8 The object reference to the integer 5 has not changed\n",
      "id y old: 140729794038424\n"
     ]
    }
   ],
   "source": [
    "y = 8\n",
    "\n",
    "def add(m):\n",
    "    while m < 10:\n",
    "        print(f\"id m start: {id(m)}\")  # Memory address of the initial m (will be updated)\n",
    "        m += 1  # Creates a new object because int is immutable\n",
    "        print(m)  # New value of m\n",
    "        print(f\"id m new: {id(m)}\")  # Memory address of the new m\n",
    "\n",
    "add(y)\n",
    "print(\"y =\", y, \"The object reference to the integer 5 has not changed\")\n",
    "print(f\"id y old: {id(y)}\")  # Memory address of y\n",
    "\n"
   ]
  },
  {
   "cell_type": "markdown",
   "metadata": {},
   "source": [
    "***Key Takeaways***\n",
    "\n",
    "- **Immutable Objects (like int):** Modifications such as `m += 1` create a **new object** in memory rather than modifying the original object.\n",
    "\n",
    "- **Pass by Assignment:** The function `add` works with a **copy of the reference** to the object, meaning it does not modify the original variable `y`.\n",
    "\n",
    "- **Memory Addresses:** The memory address of `m` changes in each iteration because a new object is created, but the memory address of `y` remains constant.\n"
   ]
  },
  {
   "cell_type": "code",
   "execution_count": 489,
   "metadata": {},
   "outputs": [
    {
     "name": "stdout",
     "output_type": "stream",
     "text": [
      "id(letters): 2956717427072\n",
      "['A', 'B', 'C', 'X']\n",
      "id(uppercase): 2956717427072\n",
      "uppercase ['A', 'B', 'C', 'X'] has been changed\n"
     ]
    }
   ],
   "source": [
    "def add_to_list(letters):\n",
    "    letters.append('X')  # Adds an element to the list\n",
    "    print(\"id(letters):\", id(letters))  # Prints the memory address of the list inside the function\n",
    "\n",
    "uppercase = ['A', 'B', 'C']  # Original list\n",
    "\n",
    "add_to_list(uppercase)  # Pass the list to the function\n",
    "print(uppercase)  # Print the modified list\n",
    "print(\"id(uppercase):\", id(uppercase))  # Print the memory address of the original list\n",
    "\n",
    "print(\"uppercase\",uppercase,\"has been changed\")"
   ]
  },
  {
   "cell_type": "markdown",
   "metadata": {},
   "source": [
    "***Summary: Why `letters` modifies the original object***\n",
    "\n",
    "- Both `letters` (inside the function) and `uppercase` (outside the function) point to the **same reference object** in memory.\n",
    "\n",
    "- Since lists are **mutable**, calling `.append('x')` directly modifies the **contents of the referenced object**, without creating a new object.\n",
    "\n",
    "- As a result, the changes made to `letters` inside the function are visible in `uppercase` outside the function.\n",
    "\n",
    "- To prevent this behavior, you can pass a **copy** of the list instead of the original object (e.g., `uppercase.copy()`).\n"
   ]
  },
  {
   "cell_type": "code",
   "execution_count": 490,
   "metadata": {},
   "outputs": [
    {
     "name": "stdout",
     "output_type": "stream",
     "text": [
      "id(letters): 2956791202816\n",
      "['A', 'B', 'C']\n",
      "id(uppercase): 2956789154944\n",
      "uppercase ['A', 'B', 'C'] has been changed\n"
     ]
    }
   ],
   "source": [
    "def add_to_list(letters):\n",
    "    letters = [\"X\", \"Y\", \"z\"]  # Adds an element to the list\n",
    "    print(\"id(letters):\", id(letters))  # Prints the memory address of the list inside the function\n",
    "\n",
    "uppercase = ['A', 'B', 'C']  # Original list\n",
    "\n",
    "add_to_list(uppercase)  # Pass the list to the function\n",
    "print(uppercase)  # Print the modified list\n",
    "print(\"id(uppercase):\", id(uppercase))  # Print the memory address of the original list\n",
    "\n",
    "print(\"uppercase\",uppercase,\"has been changed\")"
   ]
  },
  {
   "cell_type": "markdown",
   "metadata": {},
   "source": [
    "#### Pass by Assignment vs Pass by Reference in Python\n",
    "\n",
    "Python uses **Pass by Assignment**, which is different from traditional \"Pass by Reference\" or \"Pass by Value\" mechanisms. Here's how it works:\n",
    "\n",
    "---\n",
    "\n",
    "##### **Pass by Assignment (Python’s Behavior):**\n",
    "- **What happens:** \n",
    "  - A reference to the object (not the object itself) is passed to the function.\n",
    "  - Inside the function, the parameter becomes another reference to the same object.\n",
    "  - The behavior depends on whether the object is **mutable** or **immutable**.\n",
    "\n",
    "- **Key Points:**\n",
    "  - **Mutable objects** (e.g., `list`, `dict`) can be modified in-place inside the function, and changes are reflected outside the function.\n",
    "  - **Immutable objects** (e.g., `int`, `str`, `tuple`) cannot be modified. If you try to \"change\" them, a new object is created, leaving the original object unchanged.\n",
    "\n",
    "---\n",
    "\n",
    "##### **Pass by Reference (not Python):**\n",
    "- **What happens:** \n",
    "  - The actual memory address of the object is passed to the function.\n",
    "  - Changes made to the parameter directly affect the original object because both share the same memory location.\n",
    "  \n",
    "- **Difference from Python:** In Python, immutable objects prevent this behavior because they cannot be changed. \n",
    "\n",
    "\n"
   ]
  },
  {
   "cell_type": "markdown",
   "metadata": {},
   "source": [
    "# Pandas\n",
    "\n",
    "- High level data manipulation tool\n",
    "- By Wes McKinney\n",
    "- Built on NumPy\n",
    "- Pandas stores tabular Data in an object named **\"DataFrame\"**"
   ]
  },
  {
   "cell_type": "code",
   "execution_count": 491,
   "metadata": {},
   "outputs": [
    {
     "name": "stdout",
     "output_type": "stream",
     "text": [
      "         country    capital    area  population\n",
      "BR        Brazil   Brasilia   8.516      200.40\n",
      "RU        Russia     Moscow  17.100      143.50\n",
      "IN         India  New Delhi   3.286     1252.00\n",
      "CH         China    Beijing   9.597     1357.00\n",
      "SA  South Africa   Pretoria   1.221       52.98\n",
      "--------------------------------------------------\n",
      "brics_data [0]: {'country': 'Brazil', 'capital': 'Brasilia', 'area': 8.516, 'population': 200.4}\n",
      "--------------------------------------------------\n",
      "BR          Brazil\n",
      "RU          Russia\n",
      "IN           India\n",
      "CH           China\n",
      "SA    South Africa\n",
      "Name: country, dtype: object\n",
      "--------------------------------------------------\n",
      "df iloc [0]:\n",
      " country         Brazil\n",
      "capital       Brasilia\n",
      "area             8.516\n",
      "population       200.4\n",
      "Name: BR, dtype: object\n"
     ]
    }
   ],
   "source": [
    "import pandas as pd\n",
    "\n",
    "brics_data = [\n",
    "    {\"country\": \"Brazil\", \"capital\": \"Brasilia\", \"area\": 8.516, \"population\": 200.40},\n",
    "    {\"country\": \"Russia\", \"capital\": \"Moscow\", \"area\": 17.100, \"population\": 143.50},\n",
    "    {\"country\": \"India\", \"capital\": \"New Delhi\", \"area\": 3.286, \"population\": 1252.00},\n",
    "    {\"country\": \"China\", \"capital\": \"Beijing\", \"area\": 9.597, \"population\": 1357.00},\n",
    "    {\"country\": \"South Africa\", \"capital\": \"Pretoria\", \"area\": 1.221, \"population\": 52.98},\n",
    "]\n",
    "\n",
    "# brics_data = List of dictionaries.\n",
    "\n",
    "df = pd.DataFrame(brics_data, index=[\"BR\", \"RU\", \"IN\", \"CH\", \"SA\"])\n",
    "print(df)\n",
    "print(\"-\" * 50)\n",
    "\n",
    "print(\"brics_data [0]:\",brics_data[0])\n",
    "print(\"-\" * 50)\n",
    "\n",
    "print(df[\"country\"])\n",
    "print(\"-\" * 50)\n",
    "\n",
    "print(\"df iloc [0]:\\n\",df.iloc[0])"
   ]
  },
  {
   "cell_type": "markdown",
   "metadata": {},
   "source": [
    "#### Using `index_col` in Pandas\n",
    "\n",
    "The `index_col` option is used when creating a DataFrame directly while reading from a file (e.g., CSV, Excel). It allows you to set a specific column in the file as the DataFrame's index.\n",
    "\n",
    "However, if you already have a DataFrame, you cannot directly use `index_col`. Instead, you can achieve similar functionality by using `.set_index()`.\n",
    "\n",
    "\n",
    "- **`index_col=None`**: No column is set as the index, and Pandas assigns a default numeric index.  \n",
    "- **`index_col=0`**: The first column is used as the DataFrame's index.  \n",
    "- **`index_col='column_name'`**: A specific column, identified by its name, is set as the index.  \n",
    "- **`index_col=[...]`**: Multiple columns are used to create a hierarchical (multi-level) index."
   ]
  },
  {
   "cell_type": "markdown",
   "metadata": {},
   "source": [
    "### Index and select data\n",
    "\n",
    "- Square brackets\n",
    "- Advanced methods\n",
    "    + loc\n",
    "    + iloc"
   ]
  },
  {
   "cell_type": "code",
   "execution_count": 492,
   "metadata": {},
   "outputs": [
    {
     "name": "stdout",
     "output_type": "stream",
     "text": [
      "0          Brazil\n",
      "1          Russia\n",
      "2           India\n",
      "3           China\n",
      "4    South Africa\n",
      "Name: country, dtype: object\n",
      "Type: <class 'pandas.core.series.Series'>\n"
     ]
    }
   ],
   "source": [
    "# [] Column access\n",
    "\n",
    "import pandas as pd\n",
    "data = [\n",
    "    {\"country\": \"Brazil\", \"capital\": \"Brasilia\", \"area\": 8.516, \"population\": 200.40},\n",
    "    {\"country\": \"Russia\", \"capital\": \"Moscow\", \"area\": 17.100, \"population\": 143.50},\n",
    "    {\"country\": \"India\", \"capital\": \"New Delhi\", \"area\": 3.286, \"population\": 1252.00},\n",
    "    {\"country\": \"China\", \"capital\": \"Beijing\", \"area\": 9.597, \"population\": 1357.00},\n",
    "    {\"country\": \"South Africa\", \"capital\": \"Pretoria\", \"area\": 1.221, \"population\": 52.98},\n",
    "]\n",
    "\n",
    "df = pd.DataFrame(data)\n",
    "\n",
    "print(df[\"country\"]) # returns a series and at the End: Name: country, dtype: object = MetaData\n",
    "\n",
    "print(\"Type:\", type(df[\"country\"])) # returns a series  \n"
   ]
  },
  {
   "cell_type": "markdown",
   "metadata": {},
   "source": [
    ">Why a Series Instead of a DataFrame?\n",
    "- Efficiency: A Series is a more efficient, memory-friendly structure when you're working with a single column.\n",
    "Indexing Flexibility: It allows easier access to individual elements and operations specific to one-dimensional data."
   ]
  },
  {
   "cell_type": "code",
   "execution_count": 493,
   "metadata": {},
   "outputs": [
    {
     "name": "stdout",
     "output_type": "stream",
     "text": [
      "0          Brazil\n",
      "1          Russia\n",
      "2           India\n",
      "3           China\n",
      "4    South Africa\n",
      "Name: country, dtype: object\n",
      "--------------------------------------------------\n",
      "        country    capital\n",
      "0        Brazil   Brasilia\n",
      "1        Russia     Moscow\n",
      "2         India  New Delhi\n",
      "3         China    Beijing\n",
      "4  South Africa   Pretoria\n",
      "--------------------------------------------------\n"
     ]
    }
   ],
   "source": [
    "print(df[\"country\"])\n",
    "print(\"-\" * 50)\n",
    "print(df[[\"country\", \"capital\"]]) #List of lists [[...]] = returns a SubDataFrame\n",
    "print(\"-\" * 50)"
   ]
  },
  {
   "cell_type": "code",
   "execution_count": 494,
   "metadata": {},
   "outputs": [
    {
     "data": {
      "text/html": [
       "<div>\n",
       "<style scoped>\n",
       "    .dataframe tbody tr th:only-of-type {\n",
       "        vertical-align: middle;\n",
       "    }\n",
       "\n",
       "    .dataframe tbody tr th {\n",
       "        vertical-align: top;\n",
       "    }\n",
       "\n",
       "    .dataframe thead th {\n",
       "        text-align: right;\n",
       "    }\n",
       "</style>\n",
       "<table border=\"1\" class=\"dataframe\">\n",
       "  <thead>\n",
       "    <tr style=\"text-align: right;\">\n",
       "      <th></th>\n",
       "      <th>country</th>\n",
       "      <th>capital</th>\n",
       "      <th>area</th>\n",
       "      <th>population</th>\n",
       "    </tr>\n",
       "  </thead>\n",
       "  <tbody>\n",
       "    <tr>\n",
       "      <th>1</th>\n",
       "      <td>Russia</td>\n",
       "      <td>Moscow</td>\n",
       "      <td>17.100</td>\n",
       "      <td>143.5</td>\n",
       "    </tr>\n",
       "    <tr>\n",
       "      <th>2</th>\n",
       "      <td>India</td>\n",
       "      <td>New Delhi</td>\n",
       "      <td>3.286</td>\n",
       "      <td>1252.0</td>\n",
       "    </tr>\n",
       "    <tr>\n",
       "      <th>3</th>\n",
       "      <td>China</td>\n",
       "      <td>Beijing</td>\n",
       "      <td>9.597</td>\n",
       "      <td>1357.0</td>\n",
       "    </tr>\n",
       "  </tbody>\n",
       "</table>\n",
       "</div>"
      ],
      "text/plain": [
       "  country    capital    area  population\n",
       "1  Russia     Moscow  17.100       143.5\n",
       "2   India  New Delhi   3.286      1252.0\n",
       "3   China    Beijing   9.597      1357.0"
      ]
     },
     "execution_count": 494,
     "metadata": {},
     "output_type": "execute_result"
    }
   ],
   "source": [
    "df[1:4] # Row access"
   ]
  },
  {
   "cell_type": "markdown",
   "metadata": {},
   "source": [
    "***Discussion***\n",
    "\n",
    "- Square brackets have a limited functionality\n",
    "\n",
    "- Idealy we want:\n",
    "    - 2D NumPy arrays\n",
    "        + my_array[rows, colums]\n",
    "- Pandas\n",
    "    - loc (label-based)\n",
    "    - iloc (integer-position.based)"
   ]
  },
  {
   "cell_type": "code",
   "execution_count": 495,
   "metadata": {},
   "outputs": [
    {
     "name": "stdout",
     "output_type": "stream",
     "text": [
      "country       Russia\n",
      "capital       Moscow\n",
      "area            17.1\n",
      "population     143.5\n",
      "Name: RU, dtype: object\n",
      "--------------------------------------------------\n",
      "   country capital  area  population\n",
      "RU  Russia  Moscow  17.1       143.5\n",
      "--------------------------------------------------\n",
      "   country    capital    area  population\n",
      "RU  Russia     Moscow  17.100       143.5\n",
      "IN   India  New Delhi   3.286      1252.0\n",
      "CH   China    Beijing   9.597      1357.0\n"
     ]
    }
   ],
   "source": [
    "import pandas as pd\n",
    "data = [\n",
    "    {\"country\": \"Brazil\", \"capital\": \"Brasilia\", \"area\": 8.516, \"population\": 200.40},\n",
    "    {\"country\": \"Russia\", \"capital\": \"Moscow\", \"area\": 17.100, \"population\": 143.50},\n",
    "    {\"country\": \"India\", \"capital\": \"New Delhi\", \"area\": 3.286, \"population\": 1252.00},\n",
    "    {\"country\": \"China\", \"capital\": \"Beijing\", \"area\": 9.597, \"population\": 1357.00},\n",
    "    {\"country\": \"South Africa\", \"capital\": \"Pretoria\", \"area\": 1.221, \"population\": 52.98},\n",
    "]\n",
    "\n",
    "brics = pd.DataFrame(data, index=[\"BR\", \"RU\", \"IN\", \"CH\", \"SA\"])  \n",
    "\n",
    "print(brics.loc[\"RU\"])\n",
    "print(\"-\" * 50)\n",
    "print(brics.loc[[\"RU\"]])\n",
    "print(\"-\" * 50)\n",
    "print(brics.loc[[\"RU\", \"IN\", \"CH\"]]) # returns multiple rows and all data"
   ]
  },
  {
   "cell_type": "code",
   "execution_count": 496,
   "metadata": {},
   "outputs": [
    {
     "name": "stdout",
     "output_type": "stream",
     "text": [
      "   country    capital\n",
      "RU  Russia     Moscow\n",
      "IN   India  New Delhi\n",
      "CH   China    Beijing\n",
      "--------------------------------------------------\n"
     ]
    },
    {
     "data": {
      "text/html": [
       "<div>\n",
       "<style scoped>\n",
       "    .dataframe tbody tr th:only-of-type {\n",
       "        vertical-align: middle;\n",
       "    }\n",
       "\n",
       "    .dataframe tbody tr th {\n",
       "        vertical-align: top;\n",
       "    }\n",
       "\n",
       "    .dataframe thead th {\n",
       "        text-align: right;\n",
       "    }\n",
       "</style>\n",
       "<table border=\"1\" class=\"dataframe\">\n",
       "  <thead>\n",
       "    <tr style=\"text-align: right;\">\n",
       "      <th></th>\n",
       "      <th>country</th>\n",
       "      <th>capital</th>\n",
       "    </tr>\n",
       "  </thead>\n",
       "  <tbody>\n",
       "    <tr>\n",
       "      <th>BR</th>\n",
       "      <td>Brazil</td>\n",
       "      <td>Brasilia</td>\n",
       "    </tr>\n",
       "    <tr>\n",
       "      <th>RU</th>\n",
       "      <td>Russia</td>\n",
       "      <td>Moscow</td>\n",
       "    </tr>\n",
       "    <tr>\n",
       "      <th>IN</th>\n",
       "      <td>India</td>\n",
       "      <td>New Delhi</td>\n",
       "    </tr>\n",
       "    <tr>\n",
       "      <th>CH</th>\n",
       "      <td>China</td>\n",
       "      <td>Beijing</td>\n",
       "    </tr>\n",
       "    <tr>\n",
       "      <th>SA</th>\n",
       "      <td>South Africa</td>\n",
       "      <td>Pretoria</td>\n",
       "    </tr>\n",
       "  </tbody>\n",
       "</table>\n",
       "</div>"
      ],
      "text/plain": [
       "         country    capital\n",
       "BR        Brazil   Brasilia\n",
       "RU        Russia     Moscow\n",
       "IN         India  New Delhi\n",
       "CH         China    Beijing\n",
       "SA  South Africa   Pretoria"
      ]
     },
     "execution_count": 496,
     "metadata": {},
     "output_type": "execute_result"
    }
   ],
   "source": [
    "print(brics.loc[[\"RU\", \"IN\", \"CH\"], [\"country\", \"capital\"]])\n",
    "print(\"-\" *50)\n",
    "brics.loc[:, [\"country\", \"capital\"]]"
   ]
  },
  {
   "cell_type": "markdown",
   "metadata": {},
   "source": [
    "***Recap***\n",
    "\n",
    "- Square brackets \n",
    "    + Column access brics[[\"country\", \"capital\"]]\n",
    "    + Row access: only through slicing brics[1:4]\n",
    "- loc (label-based)\n",
    "    + Row access brics.loc[[\"RU\",\"IN\",\"CH\"]]\n",
    "    + Column access brics.loc[:,[\"country\", \"capital\"]]\n",
    "    + Row and column access brics.loc[[\"RU\", \"IN\", \"CH\"], [\"country\", \"capital\"]]\n",
    "\n",
    "**When to Use loc:**\n",
    "\n",
    "If the DataFrame has meaningful row or column labels (e.g., country codes, names, dates), loc is better because it allows to work directly with those labels.\n",
    "Example: df.loc[\"RU\", \"capital\"]\n",
    "Readability:\n",
    "\n",
    "Using labels makes code more intuitive and easier to understand, especially in larger projects.\n",
    "Flexible Slicing:\n",
    "\n",
    "I can combine label-based row and column selection in one operation: df.loc[\"RU\":\"CH\", \"country\":\"capital\"]."
   ]
  },
  {
   "cell_type": "code",
   "execution_count": 497,
   "metadata": {},
   "outputs": [
    {
     "name": "stdout",
     "output_type": "stream",
     "text": [
      "   country capital  area  population\n",
      "RU  Russia  Moscow  17.1       143.5\n",
      "--------------------------------------------------\n",
      "   country    capital    area  population\n",
      "RU  Russia     Moscow  17.100       143.5\n",
      "IN   India  New Delhi   3.286      1252.0\n",
      "CH   China    Beijing   9.597      1357.0\n"
     ]
    }
   ],
   "source": [
    "#Row access iloc\n",
    "print(brics.iloc[[1]])\n",
    "print(\"-\"*50)\n",
    "print(brics.iloc[[1,2,3]])"
   ]
  },
  {
   "cell_type": "code",
   "execution_count": 498,
   "metadata": {},
   "outputs": [
    {
     "name": "stdout",
     "output_type": "stream",
     "text": [
      "   country capital  area\n",
      "RU  Russia  Moscow  17.1\n",
      "--------------------------------------------------\n",
      "         country    capital    area\n",
      "BR        Brazil   Brasilia   8.516\n",
      "RU        Russia     Moscow  17.100\n",
      "IN         India  New Delhi   3.286\n",
      "CH         China    Beijing   9.597\n",
      "SA  South Africa   Pretoria   1.221\n"
     ]
    }
   ],
   "source": [
    "#Row an column access iloc\n",
    "\n",
    "print(brics.iloc[[1],[0,1,2]])\n",
    "print(\"-\" *50)\n",
    "print(brics.iloc[:, [0, 1, 2]])"
   ]
  },
  {
   "cell_type": "markdown",
   "metadata": {},
   "source": [
    "## Comparison Operators"
   ]
  },
  {
   "cell_type": "code",
   "execution_count": 499,
   "metadata": {},
   "outputs": [],
   "source": [
    "import pandas as pd\n",
    "import numpy as np"
   ]
  },
  {
   "cell_type": "code",
   "execution_count": 500,
   "metadata": {},
   "outputs": [
    {
     "name": "stdout",
     "output_type": "stream",
     "text": [
      "[21.35510204 20.97505669 21.75028214 24.7473475  21.44127836]\n",
      "[False False False  True False]\n",
      "[24.7473475]\n"
     ]
    }
   ],
   "source": [
    "# Data\n",
    "np_height = np.array([1.75, 1.68, 1.71, 1.89, 1.79])\n",
    "np_weight = np.array([65.4, 59.2, 63.6, 88.4, 68.7])\n",
    "bmi = np_weight / np_height ** 2\n",
    "print(bmi)\n",
    "\n",
    "print(bmi > 23)\n",
    "\n",
    "print(bmi[bmi > 23])"
   ]
  },
  {
   "cell_type": "markdown",
   "metadata": {},
   "source": [
    "- Comparison operators: how Python values relate"
   ]
  },
  {
   "cell_type": "code",
   "execution_count": 501,
   "metadata": {},
   "outputs": [
    {
     "data": {
      "text/plain": [
       "True"
      ]
     },
     "execution_count": 501,
     "metadata": {},
     "output_type": "execute_result"
    }
   ],
   "source": [
    "2 < 3"
   ]
  },
  {
   "cell_type": "code",
   "execution_count": 502,
   "metadata": {},
   "outputs": [
    {
     "data": {
      "text/plain": [
       "False"
      ]
     },
     "execution_count": 502,
     "metadata": {},
     "output_type": "execute_result"
    }
   ],
   "source": [
    "2 == 3"
   ]
  },
  {
   "cell_type": "code",
   "execution_count": 503,
   "metadata": {},
   "outputs": [
    {
     "data": {
      "text/plain": [
       "True"
      ]
     },
     "execution_count": 503,
     "metadata": {},
     "output_type": "execute_result"
    }
   ],
   "source": [
    "2 <= 3"
   ]
  },
  {
   "cell_type": "code",
   "execution_count": 504,
   "metadata": {},
   "outputs": [
    {
     "data": {
      "text/plain": [
       "True"
      ]
     },
     "execution_count": 504,
     "metadata": {},
     "output_type": "execute_result"
    }
   ],
   "source": [
    "x = 2\n",
    "y = 3\n",
    "x < y"
   ]
  },
  {
   "cell_type": "code",
   "execution_count": 505,
   "metadata": {},
   "outputs": [
    {
     "data": {
      "text/plain": [
       "True"
      ]
     },
     "execution_count": 505,
     "metadata": {},
     "output_type": "execute_result"
    }
   ],
   "source": [
    "# Other comparison\n",
    "\"carl\" < \"chris\""
   ]
  },
  {
   "cell_type": "markdown",
   "metadata": {},
   "source": [
    "### Comparators\n",
    "\n",
    "| **Comparator** | **Meaning**               |\n",
    "|-----------------|---------------------------|\n",
    "| `<`             | Strictly less than        |\n",
    "| `<=`            | Less than or equal        |\n",
    "| `>`             | Strictly greater than     |\n",
    "| `>=`            | Greater than or equal     |\n",
    "| `==`            | Equal                     |\n",
    "| `!=`            | Not equal                 |"
   ]
  },
  {
   "cell_type": "markdown",
   "metadata": {},
   "source": [
    "## Boolean Operators\n",
    "\n",
    "most common:\n",
    "- and\n",
    "- or\n",
    "- not"
   ]
  },
  {
   "cell_type": "code",
   "execution_count": 506,
   "metadata": {},
   "outputs": [
    {
     "name": "stdout",
     "output_type": "stream",
     "text": [
      "True and True: True\n",
      "True and False: True\n",
      "False and True: False\n",
      "False and False: False\n"
     ]
    }
   ],
   "source": [
    "# and operator. Both parameters needs to be true\n",
    "print(\"True and True:\" , True and True)\n",
    "print(\"True and False:\" , True and True)\n",
    "print(\"False and True:\", False and True)\n",
    "print(\"False and False:\", False and False)"
   ]
  },
  {
   "cell_type": "code",
   "execution_count": 507,
   "metadata": {},
   "outputs": [
    {
     "data": {
      "text/plain": [
       "True"
      ]
     },
     "execution_count": 507,
     "metadata": {},
     "output_type": "execute_result"
    }
   ],
   "source": [
    "# exsample\n",
    "x = 12\n",
    "x > 5 and x < 15\n",
    "\n"
   ]
  },
  {
   "cell_type": "code",
   "execution_count": 508,
   "metadata": {},
   "outputs": [
    {
     "name": "stdout",
     "output_type": "stream",
     "text": [
      "True or True: True\n",
      "True or False: True\n",
      "False or True: True\n",
      "False or False: False\n"
     ]
    }
   ],
   "source": [
    "# or operator. Only one parameter needs to be true\n",
    "print(\"True or True:\" , True or True)\n",
    "print(\"True or False:\" , True or True)\n",
    "print(\"False or True:\", False or True)\n",
    "print(\"False or False:\", False or False)"
   ]
  },
  {
   "cell_type": "code",
   "execution_count": 509,
   "metadata": {},
   "outputs": [
    {
     "data": {
      "text/plain": [
       "True"
      ]
     },
     "execution_count": 509,
     "metadata": {},
     "output_type": "execute_result"
    }
   ],
   "source": [
    "# exsample\n",
    "y = 5\n",
    "y < 7 or y > 13"
   ]
  },
  {
   "cell_type": "code",
   "execution_count": 510,
   "metadata": {},
   "outputs": [
    {
     "name": "stdout",
     "output_type": "stream",
     "text": [
      "You are young\n"
     ]
    }
   ],
   "source": [
    "# not operator. Negates the boolean value of a condition\n",
    "age = 2\n",
    "if not age > 3:\n",
    "    print(\"You are young\")\n",
    "else:\n",
    "    print(\"You are old\")\n"
   ]
  },
  {
   "cell_type": "markdown",
   "metadata": {},
   "source": [
    "# NumPy"
   ]
  },
  {
   "cell_type": "code",
   "execution_count": 511,
   "metadata": {},
   "outputs": [
    {
     "name": "stdout",
     "output_type": "stream",
     "text": [
      "[10]\n",
      "[30 40 50]\n",
      "[30]\n"
     ]
    },
    {
     "data": {
      "text/plain": [
       "array([30])"
      ]
     },
     "execution_count": 511,
     "metadata": {},
     "output_type": "execute_result"
    }
   ],
   "source": [
    "# Boolean Operators work different in numpy\n",
    "# logical_and()\n",
    "# logical_or()\n",
    "# logical_not()\n",
    "\n",
    "import numpy as np\n",
    "\n",
    "# example, calculation of the BMI\n",
    "bmi = np.array([10, 20, 30, 40, 50])\n",
    "print(bmi[bmi < 20])\n",
    "print(bmi[bmi > 20])\n",
    "# print(bmi > 20 and bmi < 30) # Returns an error\n",
    "print(bmi[(bmi > 20) & (bmi < 40)]) #or\n",
    "np.logical_and(bmi > 20, bmi < 40)\n",
    "bmi[np.logical_and(bmi > 20, bmi < 40)]\n",
    "\n"
   ]
  },
  {
   "cell_type": "code",
   "execution_count": 512,
   "metadata": {},
   "outputs": [
    {
     "name": "stdout",
     "output_type": "stream",
     "text": [
      "[20.   9.5]\n",
      "[9.5]\n"
     ]
    }
   ],
   "source": [
    "import numpy as np\n",
    "my_house = np.array([18.0, 20.0, 10.75, 9.50])\n",
    "your_house = np.array([14.0, 24.0, 14.25, 9.0])\n",
    "\n",
    "# my_house greater than 18.5 or smaller than 10\n",
    "\n",
    "print(my_house[np.logical_or(my_house > 18.5, my_house < 10)])\n",
    "\n",
    "# Both my_house and your_house smaller than 11\n",
    "print(my_house[np.logical_and(my_house < 11, your_house < 11)])"
   ]
  },
  {
   "cell_type": "markdown",
   "metadata": {},
   "source": [
    "### Conditional Statements\n",
    "- if \n",
    "- elif \n",
    "- else"
   ]
  },
  {
   "cell_type": "code",
   "execution_count": 513,
   "metadata": {},
   "outputs": [
    {
     "name": "stdout",
     "output_type": "stream",
     "text": [
      "checking: 4\n",
      "z is even\n"
     ]
    }
   ],
   "source": [
    "# if statement\n",
    "\n",
    "z = 4\n",
    "\n",
    "if z % 2 == 0:\n",
    "    print(\"checking: \" + str(z))\n",
    "    print(\"z is even\")"
   ]
  },
  {
   "cell_type": "code",
   "execution_count": 514,
   "metadata": {},
   "outputs": [
    {
     "name": "stdout",
     "output_type": "stream",
     "text": [
      "z is odd\n"
     ]
    }
   ],
   "source": [
    "z = 5\n",
    "\n",
    "if z % 2 == 0:\n",
    "    print(\"checking: \" + str(z))\n",
    "    print(\"z is even\")\n",
    "else:\n",
    "    print(\"z is odd\")"
   ]
  },
  {
   "cell_type": "code",
   "execution_count": 515,
   "metadata": {},
   "outputs": [
    {
     "name": "stdout",
     "output_type": "stream",
     "text": [
      "checking: 6\n",
      "z is divisible by 2\n"
     ]
    }
   ],
   "source": [
    "z = 6 # When the first condition is True, elif will not be excecuted!\n",
    "\n",
    "if z % 2 == 0:\n",
    "    print(\"checking: \" + str(z))\n",
    "    print(\"z is divisible by 2\")\n",
    "elif z % 3 == 0:\n",
    "    print(\"checking: \" + str(z))\n",
    "    print(\"z is divisible by 3\")\n",
    "else:\n",
    "    print(\"z is odd\")"
   ]
  },
  {
   "cell_type": "markdown",
   "metadata": {},
   "source": [
    "### Filtering pandas DataFrames"
   ]
  },
  {
   "cell_type": "code",
   "execution_count": 516,
   "metadata": {},
   "outputs": [
    {
     "data": {
      "text/html": [
       "<div>\n",
       "<style scoped>\n",
       "    .dataframe tbody tr th:only-of-type {\n",
       "        vertical-align: middle;\n",
       "    }\n",
       "\n",
       "    .dataframe tbody tr th {\n",
       "        vertical-align: top;\n",
       "    }\n",
       "\n",
       "    .dataframe thead th {\n",
       "        text-align: right;\n",
       "    }\n",
       "</style>\n",
       "<table border=\"1\" class=\"dataframe\">\n",
       "  <thead>\n",
       "    <tr style=\"text-align: right;\">\n",
       "      <th></th>\n",
       "      <th>country</th>\n",
       "      <th>capital</th>\n",
       "      <th>area</th>\n",
       "      <th>population</th>\n",
       "    </tr>\n",
       "  </thead>\n",
       "  <tbody>\n",
       "    <tr>\n",
       "      <th>BR</th>\n",
       "      <td>Brazil</td>\n",
       "      <td>Brasilia</td>\n",
       "      <td>8.516</td>\n",
       "      <td>200.40</td>\n",
       "    </tr>\n",
       "    <tr>\n",
       "      <th>RU</th>\n",
       "      <td>Russia</td>\n",
       "      <td>Moscow</td>\n",
       "      <td>17.100</td>\n",
       "      <td>143.50</td>\n",
       "    </tr>\n",
       "    <tr>\n",
       "      <th>IN</th>\n",
       "      <td>India</td>\n",
       "      <td>New Delhi</td>\n",
       "      <td>3.286</td>\n",
       "      <td>1252.00</td>\n",
       "    </tr>\n",
       "    <tr>\n",
       "      <th>CH</th>\n",
       "      <td>China</td>\n",
       "      <td>Beijing</td>\n",
       "      <td>9.597</td>\n",
       "      <td>1357.00</td>\n",
       "    </tr>\n",
       "    <tr>\n",
       "      <th>SA</th>\n",
       "      <td>South Africa</td>\n",
       "      <td>Pretoria</td>\n",
       "      <td>1.221</td>\n",
       "      <td>52.98</td>\n",
       "    </tr>\n",
       "  </tbody>\n",
       "</table>\n",
       "</div>"
      ],
      "text/plain": [
       "         country    capital    area  population\n",
       "BR        Brazil   Brasilia   8.516      200.40\n",
       "RU        Russia     Moscow  17.100      143.50\n",
       "IN         India  New Delhi   3.286     1252.00\n",
       "CH         China    Beijing   9.597     1357.00\n",
       "SA  South Africa   Pretoria   1.221       52.98"
      ]
     },
     "execution_count": 516,
     "metadata": {},
     "output_type": "execute_result"
    }
   ],
   "source": [
    "import pandas as pd\n",
    "brics_data = [\n",
    "    {\"country\": \"Brazil\", \"capital\": \"Brasilia\", \"area\": 8.516, \"population\": 200.40},\n",
    "    {\"country\": \"Russia\", \"capital\": \"Moscow\", \"area\": 17.100, \"population\": 143.50},\n",
    "    {\"country\": \"India\", \"capital\": \"New Delhi\", \"area\": 3.286, \"population\": 1252.00},\n",
    "    {\"country\": \"China\", \"capital\": \"Beijing\", \"area\": 9.597, \"population\": 1357.00},\n",
    "    {\"country\": \"South Africa\", \"capital\": \"Pretoria\", \"area\": 1.221, \"population\": 52.98},\n",
    "]\n",
    "\n",
    "df_brics = pd.DataFrame(brics_data, index=[\"BR\", \"RU\", \"IN\", \"CH\", \"SA\"])\n",
    "df_brics"
   ]
  },
  {
   "cell_type": "code",
   "execution_count": 517,
   "metadata": {},
   "outputs": [
    {
     "name": "stdout",
     "output_type": "stream",
     "text": [
      "BR     8.516\n",
      "RU    17.100\n",
      "IN     3.286\n",
      "CH     9.597\n",
      "SA     1.221\n",
      "Name: area, dtype: float64\n",
      "BR     8.516\n",
      "RU    17.100\n",
      "IN     3.286\n",
      "CH     9.597\n",
      "SA     1.221\n",
      "Name: area, dtype: float64\n",
      "BR     8.516\n",
      "RU    17.100\n",
      "IN     3.286\n",
      "CH     9.597\n",
      "SA     1.221\n",
      "Name: area, dtype: float64\n",
      "BR     8.516\n",
      "RU    17.100\n",
      "IN     3.286\n",
      "CH     9.597\n",
      "SA     1.221\n",
      "Name: area, dtype: float64\n"
     ]
    }
   ],
   "source": [
    "print(df_brics[\"area\"])\n",
    "print(df_brics.area)\n",
    "print(df_brics.loc[:,\"area\"])\n",
    "\n",
    "print(df_brics.iloc[:, 2])"
   ]
  },
  {
   "cell_type": "code",
   "execution_count": 518,
   "metadata": {},
   "outputs": [
    {
     "data": {
      "text/plain": [
       "BR     True\n",
       "RU     True\n",
       "IN    False\n",
       "CH     True\n",
       "SA    False\n",
       "Name: area, dtype: bool"
      ]
     },
     "execution_count": 518,
     "metadata": {},
     "output_type": "execute_result"
    }
   ],
   "source": [
    "df_brics[\"area\"] > 8 # Returns a boolean series\n"
   ]
  },
  {
   "cell_type": "code",
   "execution_count": 519,
   "metadata": {},
   "outputs": [
    {
     "name": "stdout",
     "output_type": "stream",
     "text": [
      "df_brics[is_huge]:\n",
      "    country   capital    area  population\n",
      "BR  Brazil  Brasilia   8.516       200.4\n",
      "RU  Russia    Moscow  17.100       143.5\n",
      "CH   China   Beijing   9.597      1357.0\n"
     ]
    },
    {
     "data": {
      "text/html": [
       "<div>\n",
       "<style scoped>\n",
       "    .dataframe tbody tr th:only-of-type {\n",
       "        vertical-align: middle;\n",
       "    }\n",
       "\n",
       "    .dataframe tbody tr th {\n",
       "        vertical-align: top;\n",
       "    }\n",
       "\n",
       "    .dataframe thead th {\n",
       "        text-align: right;\n",
       "    }\n",
       "</style>\n",
       "<table border=\"1\" class=\"dataframe\">\n",
       "  <thead>\n",
       "    <tr style=\"text-align: right;\">\n",
       "      <th></th>\n",
       "      <th>country</th>\n",
       "      <th>capital</th>\n",
       "      <th>area</th>\n",
       "      <th>population</th>\n",
       "    </tr>\n",
       "  </thead>\n",
       "  <tbody>\n",
       "    <tr>\n",
       "      <th>BR</th>\n",
       "      <td>Brazil</td>\n",
       "      <td>Brasilia</td>\n",
       "      <td>8.516</td>\n",
       "      <td>200.4</td>\n",
       "    </tr>\n",
       "    <tr>\n",
       "      <th>RU</th>\n",
       "      <td>Russia</td>\n",
       "      <td>Moscow</td>\n",
       "      <td>17.100</td>\n",
       "      <td>143.5</td>\n",
       "    </tr>\n",
       "    <tr>\n",
       "      <th>CH</th>\n",
       "      <td>China</td>\n",
       "      <td>Beijing</td>\n",
       "      <td>9.597</td>\n",
       "      <td>1357.0</td>\n",
       "    </tr>\n",
       "  </tbody>\n",
       "</table>\n",
       "</div>"
      ],
      "text/plain": [
       "   country   capital    area  population\n",
       "BR  Brazil  Brasilia   8.516       200.4\n",
       "RU  Russia    Moscow  17.100       143.5\n",
       "CH   China   Beijing   9.597      1357.0"
      ]
     },
     "execution_count": 519,
     "metadata": {},
     "output_type": "execute_result"
    }
   ],
   "source": [
    "is_huge = df_brics[\"area\"] > 8\n",
    "print(\"df_brics[is_huge]:\\n\",df_brics[is_huge])\n",
    "df_brics[df_brics[\"area\"] > 8]"
   ]
  },
  {
   "cell_type": "markdown",
   "metadata": {},
   "source": [
    "### Boolean operators"
   ]
  },
  {
   "cell_type": "code",
   "execution_count": 520,
   "metadata": {},
   "outputs": [
    {
     "data": {
      "text/plain": [
       "BR     True\n",
       "RU    False\n",
       "IN    False\n",
       "CH     True\n",
       "SA    False\n",
       "Name: area, dtype: bool"
      ]
     },
     "execution_count": 520,
     "metadata": {},
     "output_type": "execute_result"
    }
   ],
   "source": [
    "import numpy as np\n",
    "\n",
    "np.logical_and(df_brics[\"area\"] > 8, df_brics[\"area\"] < 10)"
   ]
  },
  {
   "cell_type": "code",
   "execution_count": 521,
   "metadata": {},
   "outputs": [
    {
     "data": {
      "text/html": [
       "<div>\n",
       "<style scoped>\n",
       "    .dataframe tbody tr th:only-of-type {\n",
       "        vertical-align: middle;\n",
       "    }\n",
       "\n",
       "    .dataframe tbody tr th {\n",
       "        vertical-align: top;\n",
       "    }\n",
       "\n",
       "    .dataframe thead th {\n",
       "        text-align: right;\n",
       "    }\n",
       "</style>\n",
       "<table border=\"1\" class=\"dataframe\">\n",
       "  <thead>\n",
       "    <tr style=\"text-align: right;\">\n",
       "      <th></th>\n",
       "      <th>country</th>\n",
       "      <th>capital</th>\n",
       "      <th>area</th>\n",
       "      <th>population</th>\n",
       "    </tr>\n",
       "  </thead>\n",
       "  <tbody>\n",
       "    <tr>\n",
       "      <th>BR</th>\n",
       "      <td>Brazil</td>\n",
       "      <td>Brasilia</td>\n",
       "      <td>8.516</td>\n",
       "      <td>200.4</td>\n",
       "    </tr>\n",
       "    <tr>\n",
       "      <th>CH</th>\n",
       "      <td>China</td>\n",
       "      <td>Beijing</td>\n",
       "      <td>9.597</td>\n",
       "      <td>1357.0</td>\n",
       "    </tr>\n",
       "  </tbody>\n",
       "</table>\n",
       "</div>"
      ],
      "text/plain": [
       "   country   capital   area  population\n",
       "BR  Brazil  Brasilia  8.516       200.4\n",
       "CH   China   Beijing  9.597      1357.0"
      ]
     },
     "execution_count": 521,
     "metadata": {},
     "output_type": "execute_result"
    }
   ],
   "source": [
    "df_brics[np.logical_and(df_brics[\"area\"] > 8, df_brics[\"area\"] < 10)]"
   ]
  },
  {
   "cell_type": "code",
   "execution_count": 522,
   "metadata": {},
   "outputs": [
    {
     "data": {
      "text/html": [
       "<div>\n",
       "<style scoped>\n",
       "    .dataframe tbody tr th:only-of-type {\n",
       "        vertical-align: middle;\n",
       "    }\n",
       "\n",
       "    .dataframe tbody tr th {\n",
       "        vertical-align: top;\n",
       "    }\n",
       "\n",
       "    .dataframe thead th {\n",
       "        text-align: right;\n",
       "    }\n",
       "</style>\n",
       "<table border=\"1\" class=\"dataframe\">\n",
       "  <thead>\n",
       "    <tr style=\"text-align: right;\">\n",
       "      <th></th>\n",
       "      <th>country</th>\n",
       "      <th>capital</th>\n",
       "      <th>area</th>\n",
       "      <th>population</th>\n",
       "    </tr>\n",
       "  </thead>\n",
       "  <tbody>\n",
       "    <tr>\n",
       "      <th>BR</th>\n",
       "      <td>Brazil</td>\n",
       "      <td>Brasilia</td>\n",
       "      <td>8.516</td>\n",
       "      <td>200.4</td>\n",
       "    </tr>\n",
       "    <tr>\n",
       "      <th>CH</th>\n",
       "      <td>China</td>\n",
       "      <td>Beijing</td>\n",
       "      <td>9.597</td>\n",
       "      <td>1357.0</td>\n",
       "    </tr>\n",
       "  </tbody>\n",
       "</table>\n",
       "</div>"
      ],
      "text/plain": [
       "   country   capital   area  population\n",
       "BR  Brazil  Brasilia  8.516       200.4\n",
       "CH   China   Beijing  9.597      1357.0"
      ]
     },
     "execution_count": 522,
     "metadata": {},
     "output_type": "execute_result"
    }
   ],
   "source": [
    "# and in Pandas &\n",
    "df_brics[(df_brics[\"area\"] > 8) & (df_brics[\"area\"] < 10)]"
   ]
  },
  {
   "cell_type": "code",
   "execution_count": 523,
   "metadata": {},
   "outputs": [
    {
     "data": {
      "text/html": [
       "<div>\n",
       "<style scoped>\n",
       "    .dataframe tbody tr th:only-of-type {\n",
       "        vertical-align: middle;\n",
       "    }\n",
       "\n",
       "    .dataframe tbody tr th {\n",
       "        vertical-align: top;\n",
       "    }\n",
       "\n",
       "    .dataframe thead th {\n",
       "        text-align: right;\n",
       "    }\n",
       "</style>\n",
       "<table border=\"1\" class=\"dataframe\">\n",
       "  <thead>\n",
       "    <tr style=\"text-align: right;\">\n",
       "      <th></th>\n",
       "      <th>country</th>\n",
       "      <th>capital</th>\n",
       "      <th>area</th>\n",
       "      <th>population</th>\n",
       "    </tr>\n",
       "  </thead>\n",
       "  <tbody>\n",
       "    <tr>\n",
       "      <th>BR</th>\n",
       "      <td>Brazil</td>\n",
       "      <td>Brasilia</td>\n",
       "      <td>8.516</td>\n",
       "      <td>200.40</td>\n",
       "    </tr>\n",
       "    <tr>\n",
       "      <th>RU</th>\n",
       "      <td>Russia</td>\n",
       "      <td>Moscow</td>\n",
       "      <td>17.100</td>\n",
       "      <td>143.50</td>\n",
       "    </tr>\n",
       "    <tr>\n",
       "      <th>IN</th>\n",
       "      <td>India</td>\n",
       "      <td>New Delhi</td>\n",
       "      <td>3.286</td>\n",
       "      <td>1252.00</td>\n",
       "    </tr>\n",
       "    <tr>\n",
       "      <th>CH</th>\n",
       "      <td>China</td>\n",
       "      <td>Beijing</td>\n",
       "      <td>9.597</td>\n",
       "      <td>1357.00</td>\n",
       "    </tr>\n",
       "    <tr>\n",
       "      <th>SA</th>\n",
       "      <td>South Africa</td>\n",
       "      <td>Pretoria</td>\n",
       "      <td>1.221</td>\n",
       "      <td>52.98</td>\n",
       "    </tr>\n",
       "  </tbody>\n",
       "</table>\n",
       "</div>"
      ],
      "text/plain": [
       "         country    capital    area  population\n",
       "BR        Brazil   Brasilia   8.516      200.40\n",
       "RU        Russia     Moscow  17.100      143.50\n",
       "IN         India  New Delhi   3.286     1252.00\n",
       "CH         China    Beijing   9.597     1357.00\n",
       "SA  South Africa   Pretoria   1.221       52.98"
      ]
     },
     "execution_count": 523,
     "metadata": {},
     "output_type": "execute_result"
    }
   ],
   "source": [
    "# or in Pandas |\n",
    "df_brics[(df_brics[\"area\"] > 8) | (df_brics[\"area\"] < 10)]"
   ]
  },
  {
   "cell_type": "code",
   "execution_count": 524,
   "metadata": {},
   "outputs": [
    {
     "data": {
      "text/html": [
       "<div>\n",
       "<style scoped>\n",
       "    .dataframe tbody tr th:only-of-type {\n",
       "        vertical-align: middle;\n",
       "    }\n",
       "\n",
       "    .dataframe tbody tr th {\n",
       "        vertical-align: top;\n",
       "    }\n",
       "\n",
       "    .dataframe thead th {\n",
       "        text-align: right;\n",
       "    }\n",
       "</style>\n",
       "<table border=\"1\" class=\"dataframe\">\n",
       "  <thead>\n",
       "    <tr style=\"text-align: right;\">\n",
       "      <th></th>\n",
       "      <th>country</th>\n",
       "      <th>capital</th>\n",
       "      <th>area</th>\n",
       "      <th>population</th>\n",
       "    </tr>\n",
       "  </thead>\n",
       "  <tbody>\n",
       "  </tbody>\n",
       "</table>\n",
       "</div>"
      ],
      "text/plain": [
       "Empty DataFrame\n",
       "Columns: [country, capital, area, population]\n",
       "Index: []"
      ]
     },
     "execution_count": 524,
     "metadata": {},
     "output_type": "execute_result"
    }
   ],
   "source": [
    "# or in Pandas ~ additional () needed\n",
    "df_brics[~((df_brics[\"area\"] > 8) | (df_brics[\"area\"] < 10))]"
   ]
  },
  {
   "cell_type": "markdown",
   "metadata": {},
   "source": [
    "### While loop"
   ]
  },
  {
   "cell_type": "markdown",
   "metadata": {},
   "source": [
    "Recap:\n",
    "- if-elif-else, goes through construct only once!"
   ]
  },
  {
   "cell_type": "code",
   "execution_count": 525,
   "metadata": {},
   "outputs": [
    {
     "name": "stdout",
     "output_type": "stream",
     "text": [
      "12.5\n",
      "3.125\n",
      "0.78125\n",
      "The last value 0.78125\n"
     ]
    }
   ],
   "source": [
    "# While loop\n",
    "# exsample\n",
    "\n",
    "error = 50\n",
    "\n",
    "while error > 1:\n",
    "    error = error / 4\n",
    "    print(error)\n",
    "print(\"The last value\", error)\n",
    "\n",
    "\n"
   ]
  },
  {
   "cell_type": "markdown",
   "metadata": {},
   "source": [
    "### For Loop"
   ]
  },
  {
   "cell_type": "code",
   "execution_count": 526,
   "metadata": {},
   "outputs": [
    {
     "name": "stdout",
     "output_type": "stream",
     "text": [
      "index 0: 1.73\n",
      "index 1: 1.68\n",
      "index 2: 1.71\n",
      "index 3: 1.89\n"
     ]
    }
   ],
   "source": [
    "fam_data = [1.73, 1.68, 1.71, 1.89]\n",
    "\n",
    "for index, height in enumerate(fam_data):\n",
    "    print(\"index \" + str(index) + \": \" + str(height))"
   ]
  },
  {
   "cell_type": "markdown",
   "metadata": {},
   "source": [
    "#### Loop over string"
   ]
  },
  {
   "cell_type": "code",
   "execution_count": 527,
   "metadata": {},
   "outputs": [
    {
     "name": "stdout",
     "output_type": "stream",
     "text": [
      "F\n",
      "A\n",
      "M\n",
      "I\n",
      "L\n",
      "Y\n"
     ]
    }
   ],
   "source": [
    "for c in \"family\":\n",
    "    print(c.capitalize())"
   ]
  },
  {
   "cell_type": "markdown",
   "metadata": {},
   "source": [
    "# Loop Data"
   ]
  },
  {
   "cell_type": "code",
   "execution_count": 528,
   "metadata": {},
   "outputs": [
    {
     "name": "stdout",
     "output_type": "stream",
     "text": [
      "afganistan -- 30.55\n",
      "albania -- 2.77\n",
      "algeria -- 39.21\n"
     ]
    }
   ],
   "source": [
    "#Dictionary Loop\n",
    "\n",
    "import pandas as pd\n",
    "\n",
    "world = {\"afganistan\": 30.55,\n",
    "         \"albania\": 2.77,\n",
    "         \"algeria\": 39.21}\n",
    "\n",
    "for key, value in world.items():\n",
    "    print(key + \" -- \" + str(value))"
   ]
  },
  {
   "cell_type": "code",
   "execution_count": 529,
   "metadata": {},
   "outputs": [
    {
     "name": "stdout",
     "output_type": "stream",
     "text": [
      "afganistan -- 30.55\n",
      "albania -- 2.77\n",
      "algeria -- 39.21\n"
     ]
    }
   ],
   "source": [
    "world = {\"afganistan\": 30.55,\n",
    "         \"albania\": 2.77,\n",
    "         \"algeria\": 39.21}\n",
    "\n",
    "for k, v in world.items():\n",
    "    print(k + \" -- \" + str(v))"
   ]
  },
  {
   "cell_type": "markdown",
   "metadata": {},
   "source": [
    "## Numpy Loop"
   ]
  },
  {
   "cell_type": "code",
   "execution_count": 530,
   "metadata": {},
   "outputs": [
    {
     "name": "stdout",
     "output_type": "stream",
     "text": [
      "21.85171572722109\n",
      "20.97505668934241\n",
      "21.750282138093777\n",
      "24.74734749867025\n",
      "21.44127836209856\n"
     ]
    }
   ],
   "source": [
    "import numpy as np\n",
    "\n",
    "np.height = np.array([1.73, 1.68, 1.71, 1.89, 1.79])\n",
    "np.weight = np.array([65.4, 59.2, 63.6, 88.4, 68.7])\n",
    "bmi = np.weight / np.height ** 2\n",
    "\n",
    "for val in bmi:\n",
    "    print(val)"
   ]
  },
  {
   "cell_type": "code",
   "execution_count": 531,
   "metadata": {},
   "outputs": [
    {
     "name": "stdout",
     "output_type": "stream",
     "text": [
      "[1.73 1.68 1.71 1.89 1.79]\n",
      "[65.4 59.2 63.6 88.4 68.7]\n"
     ]
    }
   ],
   "source": [
    "import numpy as np\n",
    "\n",
    "np.height = np.array([1.73, 1.68, 1.71, 1.89, 1.79])\n",
    "np.weight = np.array([65.4, 59.2, 63.6, 88.4, 68.7])\n",
    "meas = np.array([np.height, np.weight])\n",
    "\n",
    "for val in meas:\n",
    "    print(val)"
   ]
  },
  {
   "cell_type": "code",
   "execution_count": 532,
   "metadata": {},
   "outputs": [
    {
     "name": "stdout",
     "output_type": "stream",
     "text": [
      "1.73\n",
      "1.68\n",
      "1.71\n",
      "1.89\n",
      "1.79\n",
      "65.4\n",
      "59.2\n",
      "63.6\n",
      "88.4\n",
      "68.7\n"
     ]
    }
   ],
   "source": [
    "np.height = np.array([1.73, 1.68, 1.71, 1.89, 1.79])\n",
    "np.weight = np.array([65.4, 59.2, 63.6, 88.4, 68.7])\n",
    "meas = np.array([np.height, np.weight])\n",
    "\n",
    "for val in np.nditer(meas):\n",
    "    print(val)"
   ]
  },
  {
   "cell_type": "markdown",
   "metadata": {},
   "source": [
    "### **📌 Recap: Iterating Over Dictionaries & NumPy Arrays**  \n",
    "\n",
    "When iterating over **Dictionaries** and **NumPy Arrays**, there is a key difference:  \n",
    "\n",
    "- **Dictionaries (`dict`)** require a **method** (`.items()`) to retrieve key-value pairs.  \n",
    "- **NumPy arrays (`np.array`)** require a **function** (`np.nditer()`) to iterate over all values.  \n",
    "\n",
    "#### **🔹 Iterating Over Dictionaries**\n",
    "Dictionaries consist of key-value pairs. To iterate over both, the `.items()` method is used. It returns an iterable of tuples that can be unpacked. Without `.items()`, the loop would only iterate over the keys.\n",
    "\n",
    "#### **🔹 Iterating Over NumPy Arrays**\n",
    "NumPy arrays are optimized for numerical computations and can be multi-dimensional. To efficiently iterate over all elements, the `np.nditer()` function is used. It ensures that each element is processed individually, regardless of the array’s dimensionality.\n",
    "\n",
    "#### **🚀 Key Takeaways**\n",
    "| Data Type | Method/Function | Description |\n",
    "|-----------|----------------|-------------|\n",
    "| **Dictionary (`dict`)** | `.items()` | Returns key-value pairs |\n",
    "| **NumPy Array (`np.array`)** | `np.nditer()` | Iterates over all elements (even multi-dimensional ones) |\n",
    "\n",
    "✨ **In summary:**  \n",
    "Dictionaries require a **method** (`.items()`), while NumPy arrays use a **function** (`np.nditer()`). 🎯✅\n",
    "\n",
    "\n",
    "\n"
   ]
  },
  {
   "cell_type": "markdown",
   "metadata": {},
   "source": [
    "# Pandas Dataframe"
   ]
  },
  {
   "cell_type": "code",
   "execution_count": 533,
   "metadata": {},
   "outputs": [
    {
     "name": "stdout",
     "output_type": "stream",
     "text": [
      "CSV-Datei wurde erfolgreich gespeichert!\n"
     ]
    }
   ],
   "source": [
    "# Speichern des DataFrames als CSV in deinem gewünschten Ordner\n",
    "brics.to_csv(r\"D:\\Repositories\\Git_GitHub\\courses_certificates_journals\\Python\\brics.csv\", index=False)\n",
    "\n",
    "print(\"CSV-Datei wurde erfolgreich gespeichert!\")\n"
   ]
  },
  {
   "cell_type": "code",
   "execution_count": 534,
   "metadata": {},
   "outputs": [
    {
     "name": "stdout",
     "output_type": "stream",
     "text": [
      "capital\n",
      "area\n",
      "population\n",
      "------------------\n",
      "Brazil\n",
      "capital       Brasilia\n",
      "area             8.516\n",
      "population       200.4\n",
      "Name: Brazil, dtype: object\n",
      "<class 'pandas.core.series.Series'>\n",
      "Russia\n",
      "capital       Moscow\n",
      "area            17.1\n",
      "population     143.5\n",
      "Name: Russia, dtype: object\n",
      "<class 'pandas.core.series.Series'>\n",
      "India\n",
      "capital       New Delhi\n",
      "area              3.286\n",
      "population       1252.0\n",
      "Name: India, dtype: object\n",
      "<class 'pandas.core.series.Series'>\n",
      "China\n",
      "capital       Beijing\n",
      "area            9.597\n",
      "population     1357.0\n",
      "Name: China, dtype: object\n",
      "<class 'pandas.core.series.Series'>\n",
      "South Africa\n",
      "capital       Pretoria\n",
      "area             1.221\n",
      "population       52.98\n",
      "Name: South Africa, dtype: object\n",
      "<class 'pandas.core.series.Series'>\n"
     ]
    }
   ],
   "source": [
    "import pandas as pd\n",
    "brics_df = pd.read_csv('brics.csv', index_col=0)\n",
    "for val in brics_df:\n",
    "    print(val)    \n",
    "\n",
    "# Iterate over rows of brics_df but returns only the index\n",
    "# In panda you have to mention that you want to iterate over rows\n",
    "\n",
    "print('------------------')\n",
    "\n",
    "for lab, row in brics_df.iterrows():\n",
    "    print(lab)\n",
    "    print(row)\n",
    "    print(type(row))"
   ]
  },
  {
   "cell_type": "markdown",
   "metadata": {},
   "source": [
    "## **Understanding `iterrows()` in Pandas**\n",
    "\n",
    "### **What is `iterrows()`?**\n",
    "The `iterrows()` function in Pandas is used to iterate over a DataFrame **row by row**. It returns an iterator that provides access to each row as an **index-value pair**.\n",
    "\n",
    "### **How `iterrows()` Works**\n",
    "- `iterrows()` generates each row as a **tuple containing**:\n",
    "  1. The **index** of the row.\n",
    "  2. A **Pandas Series** containing the row’s data.\n",
    "\n",
    "- Within a `for` loop, each row can be accessed and manipulated by referring to its column values.\n",
    "\n",
    "### **Key Characteristics**\n",
    "- Each row is returned as a **Series**, where **column names** act as keys.\n",
    "- The row **index** is separate from the data and can be used for reference.\n",
    "- Column values within the row can be accessed using `row['column_name']`.\n",
    "\n",
    "### **Performance Considerations**\n",
    "⚠ **Warning:** `iterrows()` is **not efficient** for large DataFrames because:\n",
    "- Each row is converted into a **Pandas Series**, which adds overhead.\n",
    "- It processes rows **one at a time**, making it significantly slower than vectorized operations.\n",
    "\n",
    "### ✅ **Recommended Alternatives**\n",
    "Instead of `iterrows()`, consider using:\n",
    "- **Vectorized operations** (`df[column]`)\n",
    "- **`.apply()` for row-wise functions**\n",
    "- **`.map()` for element-wise transformations**\n",
    "- **Boolean indexing for filtering** (`df[df['column'] > value]`)\n",
    "\n",
    "### **Conclusion**\n",
    "Use `iterrows()` only when necessary, primarily for **small to medium DataFrames** where row-wise operations are unavoidable. For large DataFrames, **vectorized methods** are the preferred approach."
   ]
  },
  {
   "cell_type": "code",
   "execution_count": 535,
   "metadata": {},
   "outputs": [
    {
     "name": "stdout",
     "output_type": "stream",
     "text": [
      "Brazil: Brasilia\n",
      "Russia: Moscow\n",
      "India: New Delhi\n",
      "China: Beijing\n",
      "South Africa: Pretoria\n"
     ]
    }
   ],
   "source": [
    "for lab, row in brics_df.iterrows():\n",
    "    print(f\"{lab}: {row['capital']}\") # This is clearer and more concise\n",
    "\n"
   ]
  },
  {
   "cell_type": "code",
   "execution_count": 536,
   "metadata": {},
   "outputs": [
    {
     "name": "stdout",
     "output_type": "stream",
     "text": [
      "                capital    area  population  name_lenght\n",
      "country                                                 \n",
      "Brazil         Brasilia   8.516      200.40          8.0\n",
      "Russia           Moscow  17.100      143.50          6.0\n",
      "India         New Delhi   3.286     1252.00          9.0\n",
      "China           Beijing   9.597     1357.00          7.0\n",
      "South Africa   Pretoria   1.221       52.98          8.0\n"
     ]
    }
   ],
   "source": [
    "for lab,row in brics_df.iterrows():\n",
    "    brics_df.loc[lab, \"name_lenght\"] = len(row[\"capital\"])\n",
    "print(brics_df)"
   ]
  },
  {
   "cell_type": "code",
   "execution_count": 537,
   "metadata": {},
   "outputs": [
    {
     "name": "stdout",
     "output_type": "stream",
     "text": [
      "                capital    area  population  name_lenght\n",
      "country                                                 \n",
      "Brazil         Brasilia   8.516      200.40          6.0\n",
      "Russia           Moscow  17.100      143.50          6.0\n",
      "India         New Delhi   3.286     1252.00          9.0\n",
      "China           Beijing   9.597     1357.00          7.0\n",
      "South Africa   Pretoria   1.221       52.98          8.0\n",
      "                capital    area  population  name_lenght\n",
      "country                                                 \n",
      "Brazil         Brasilia   8.516      200.40          6.0\n",
      "Russia           Moscow  17.100      143.50          6.0\n",
      "India         New Delhi   3.286     1252.00          9.0\n",
      "China           Beijing   9.597     1357.00          7.0\n",
      "South Africa   Pretoria   1.221       52.98          8.0\n",
      "                capital    area  population  name_lenght\n",
      "country                                                 \n",
      "Brazil         Brasilia   8.516      200.40          6.0\n",
      "Russia           Moscow  17.100      143.50          6.0\n",
      "India         New Delhi   3.286     1252.00          5.0\n",
      "China           Beijing   9.597     1357.00          7.0\n",
      "South Africa   Pretoria   1.221       52.98          8.0\n",
      "                capital    area  population  name_lenght\n",
      "country                                                 \n",
      "Brazil         Brasilia   8.516      200.40          6.0\n",
      "Russia           Moscow  17.100      143.50          6.0\n",
      "India         New Delhi   3.286     1252.00          5.0\n",
      "China           Beijing   9.597     1357.00          5.0\n",
      "South Africa   Pretoria   1.221       52.98          8.0\n",
      "                capital    area  population  name_lenght\n",
      "country                                                 \n",
      "Brazil         Brasilia   8.516      200.40          6.0\n",
      "Russia           Moscow  17.100      143.50          6.0\n",
      "India         New Delhi   3.286     1252.00          5.0\n",
      "China           Beijing   9.597     1357.00          5.0\n",
      "South Africa   Pretoria   1.221       52.98         12.0\n"
     ]
    }
   ],
   "source": [
    "# !!! Bad exsample !!! can produce multiple iterations\n",
    "for lab, row in brics_df.iterrows():\n",
    "    brics_df.loc[lab, \"name_lenght\"] = len(lab)\n",
    "    print(brics_df)"
   ]
  },
  {
   "cell_type": "code",
   "execution_count": 538,
   "metadata": {},
   "outputs": [
    {
     "name": "stdout",
     "output_type": "stream",
     "text": [
      "                capital    area  population  name_lenght\n",
      "country                                                 \n",
      "Brazil         Brasilia   8.516      200.40            8\n",
      "Russia           Moscow  17.100      143.50            6\n",
      "India         New Delhi   3.286     1252.00            9\n",
      "China           Beijing   9.597     1357.00            7\n",
      "South Africa   Pretoria   1.221       52.98            8\n",
      "----------------------------------------------------------------------------------------------------\n",
      "                capital    area  population  name_lenght  name_leght_index\n",
      "country                                                                   \n",
      "Brazil         Brasilia   8.516      200.40            8                 6\n",
      "Russia           Moscow  17.100      143.50            6                 6\n",
      "India         New Delhi   3.286     1252.00            9                 5\n",
      "China           Beijing   9.597     1357.00            7                 5\n",
      "South Africa   Pretoria   1.221       52.98            8                12\n"
     ]
    }
   ],
   "source": [
    "# Best practice\n",
    "brics_df[\"name_lenght\"] = brics_df[\"capital\"].str.len()\n",
    "print(brics_df)\n",
    "\n",
    "print(\"-\" * 100)\n",
    "\n",
    "brics_df[\"name_leght_index\"] = brics_df.index.str.len()\n",
    "print(brics_df)\n"
   ]
  },
  {
   "cell_type": "code",
   "execution_count": 539,
   "metadata": {},
   "outputs": [
    {
     "name": "stdout",
     "output_type": "stream",
     "text": [
      "                capital    area  population  name_lenght  name_leght_index  \\\n",
      "country                                                                      \n",
      "Brazil         Brasilia   8.516      200.40            8                 6   \n",
      "Russia           Moscow  17.100      143.50            6                 6   \n",
      "India         New Delhi   3.286     1252.00            9                 5   \n",
      "China           Beijing   9.597     1357.00            7                 5   \n",
      "South Africa   Pretoria   1.221       52.98            8                12   \n",
      "\n",
      "              aplly_function_len_capital  \n",
      "country                                   \n",
      "Brazil                                 8  \n",
      "Russia                                 6  \n",
      "India                                  9  \n",
      "China                                  7  \n",
      "South Africa                           8  \n",
      "____________________________________________________________________________________________________\n",
      "                capital    area  population  name_lenght  name_leght_index  \\\n",
      "country                                                                      \n",
      "Brazil         Brasilia   8.516      200.40            8                 6   \n",
      "Russia           Moscow  17.100      143.50            6                 6   \n",
      "India         New Delhi   3.286     1252.00            9                 5   \n",
      "China           Beijing   9.597     1357.00            7                 5   \n",
      "South Africa   Pretoria   1.221       52.98            8                12   \n",
      "\n",
      "              aplly_function_len_capital  aplly_function_len_index  \n",
      "country                                                             \n",
      "Brazil                                 8                         6  \n",
      "Russia                                 6                         6  \n",
      "India                                  9                         5  \n",
      "China                                  7                         5  \n",
      "South Africa                           8                        12  \n"
     ]
    }
   ],
   "source": [
    "# apply method\n",
    "brics_df[\"aplly_function_len_capital\"] = brics_df[\"capital\"].apply(len)\n",
    "print(brics_df)\n",
    "\n",
    "print(\"_\" * 100)\n",
    "\n",
    "brics_df[\"aplly_function_len_index\"] = brics_df.index.to_series().apply(len)\n",
    "print(brics_df)"
   ]
  },
  {
   "cell_type": "markdown",
   "metadata": {},
   "source": [
    "# Random numbers"
   ]
  },
  {
   "cell_type": "code",
   "execution_count": 550,
   "metadata": {},
   "outputs": [
    {
     "data": {
      "text/plain": [
       "0.6964691855978616"
      ]
     },
     "execution_count": 550,
     "metadata": {},
     "output_type": "execute_result"
    }
   ],
   "source": [
    "import numpy as np\n",
    "np.random.seed(123) #Pseudorandom. But consistant between runs\n",
    "np.random.rand()\n"
   ]
  },
  {
   "cell_type": "code",
   "execution_count": 551,
   "metadata": {},
   "outputs": [
    {
     "data": {
      "text/plain": [
       "0.28613933495037946"
      ]
     },
     "execution_count": 551,
     "metadata": {},
     "output_type": "execute_result"
    }
   ],
   "source": [
    "np.random.rand()"
   ]
  },
  {
   "cell_type": "code",
   "execution_count": 556,
   "metadata": {},
   "outputs": [
    {
     "name": "stdout",
     "output_type": "stream",
     "text": [
      "0\n",
      "Tails\n"
     ]
    }
   ],
   "source": [
    "np.random.seed(123)\n",
    "coin = np.random.randint(0,2) #  random 0: Tails or 1: Heads\n",
    "print(coin)\n",
    "\n",
    "if coin == 0:\n",
    "    print(\"Tails\")\n",
    "\n",
    "else:\n",
    "    print(\"Heads\")"
   ]
  },
  {
   "cell_type": "code",
   "execution_count": 579,
   "metadata": {},
   "outputs": [
    {
     "name": "stdout",
     "output_type": "stream",
     "text": [
      "1 41\n"
     ]
    }
   ],
   "source": [
    "dice = np.random.randint(1, 7)\n",
    "\n",
    "step = 40\n",
    "\n",
    "if dice <= 2:\n",
    "    step += 1\n",
    "elif dice <= 5:\n",
    "    step -= 1\n",
    "else:\n",
    "    step += np.random.randint(1, 7)\n",
    "print(dice, step)    "
   ]
  },
  {
   "cell_type": "code",
   "execution_count": 607,
   "metadata": {},
   "outputs": [
    {
     "name": "stdout",
     "output_type": "stream",
     "text": [
      "Zweiter Wurf\n",
      "6 9\n"
     ]
    }
   ],
   "source": [
    "dice = np.random.randint(1, 7)\n",
    "\n",
    "step = 0\n",
    "\n",
    "if dice <= 5:\n",
    "    step += dice\n",
    "else:\n",
    "    print(\"Zweiter Wurf\")\n",
    "    step += np.random.randint(1, 7) + dice\n",
    "print(dice, step)    "
   ]
  },
  {
   "cell_type": "markdown",
   "metadata": {},
   "source": [
    "### Distribution"
   ]
  },
  {
   "cell_type": "code",
   "execution_count": 614,
   "metadata": {},
   "outputs": [
    {
     "name": "stdout",
     "output_type": "stream",
     "text": [
      "[0, 0, 1, 1, 1, 1, 1, 1, 2, 3, 3]\n"
     ]
    }
   ],
   "source": [
    "np.random.seed(123)\n",
    "tails = [0]\n",
    "\n",
    "for x in range(10):\n",
    "    coin = np.random.randint(0,2)\n",
    "    tails.append(tails[x] + coin)\n",
    "\n",
    "print(tails)\n"
   ]
  },
  {
   "cell_type": "code",
   "execution_count": 626,
   "metadata": {},
   "outputs": [
    {
     "data": {
      "image/png": "[encoded data removed]",
      "text/plain": [
       "<Figure size 640x480 with 1 Axes>"
      ]
     },
     "metadata": {},
     "output_type": "display_data"
    }
   ],
   "source": [
    "import numpy as np\n",
    "import matplotlib.pyplot as plt \n",
    "\n",
    "np.random.seed(123)\n",
    "\n",
    "final_tails = []\n",
    "\n",
    "for x in range(10000):\n",
    "    tails = [0]\n",
    "    for x in range(10):\n",
    "        coin = np.random.randint(0,2)\n",
    "        tails.append(tails[x] + coin)\n",
    "    final_tails.append(tails[-1])\n",
    "plt.hist(final_tails, bins = 10, color= \"orange\" )\n",
    "plt.show()\n"
   ]
  }
 ],
 "metadata": {
  "kernelspec": {
   "display_name": "venv",
   "language": "python",
   "name": "python3"
  },
  "language_info": {
   "codemirror_mode": {
    "name": "ipython",
    "version": 3
   },
   "file_extension": ".py",
   "mimetype": "text/x-python",
   "name": "python",
   "nbconvert_exporter": "python",
   "pygments_lexer": "ipython3",
   "version": "3.12.6"
  }
 },
 "nbformat": 4,
 "nbformat_minor": 2
}
