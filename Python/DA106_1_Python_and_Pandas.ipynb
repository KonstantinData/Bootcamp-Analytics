{
 "cells": [
  {
   "cell_type": "markdown",
   "metadata": {},
   "source": [
    "#### Markdown Settings\n",
    "\n",
    "* To make **bold** text, wrap it in * (e.g., **bold**).\n",
    "* For italic text, use * (e.g., *italic*) or italic and bold (***italic***) \n",
    "* Create headers by starting lines with # (e.g., # Header 1, ## Header 2, ### Header 3,etc.).\n",
    "* Bullet points can be created with - or *.\n",
    "* To add links, use [Link Text](URL).\n",
    "* ![Alt-Text](Bild-URL)\n",
    "* ![Logo](https://via.placeholder.com/150)\n",
    "* > This is a quote.\n",
    "* <p style=\"color: red;\">This Text is red.</p>\n",
    "\n",
    "\n",
    "\n",
    "\n"
   ]
  },
  {
   "cell_type": "markdown",
   "metadata": {},
   "source": [
    "# Python Libraries"
   ]
  },
  {
   "cell_type": "markdown",
   "metadata": {},
   "source": [
    "#### What are libraries?\n",
    "Libraries in Python are<p style = \"color: blue;\" >**pre-written collections of code**</p>that extend the language's capabilities. Think of them like toolboxes filled with specialized tools that help you perform specific tasks more efficiently. They contain pre-written functions, classes, methods and other utilities."
   ]
  },
  {
   "cell_type": "code",
   "execution_count": 2,
   "metadata": {},
   "outputs": [
    {
     "name": "stdout",
     "output_type": "stream",
     "text": [
      "Hello World\n",
      "   0\n",
      "0  1\n",
      "1  2\n",
      "2  3\n",
      "3  4\n",
      "4  5\n"
     ]
    }
   ],
   "source": [
    "import pandas as pd\n",
    "print(\"Hello World\")\n",
    "\n",
    "List = [1, 2, 3, 4, 5]\n",
    "\n",
    "df = pd.DataFrame(List) \n",
    "print(df)"
   ]
  }
 ],
 "metadata": {
  "kernelspec": {
   "display_name": "venv",
   "language": "python",
   "name": "python3"
  },
  "language_info": {
   "codemirror_mode": {
    "name": "ipython",
    "version": 3
   },
   "file_extension": ".py",
   "mimetype": "text/x-python",
   "name": "python",
   "nbconvert_exporter": "python",
   "pygments_lexer": "ipython3",
   "version": "3.12.6"
  }
 },
 "nbformat": 4,
 "nbformat_minor": 2
}
