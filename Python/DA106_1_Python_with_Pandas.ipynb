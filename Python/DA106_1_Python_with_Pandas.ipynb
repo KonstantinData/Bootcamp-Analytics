{
 "cells": [
  {
   "cell_type": "markdown",
   "metadata": {},
   "source": [
    "# Python Basics for Pandas\n"
   ]
  },
  {
   "cell_type": "markdown",
   "metadata": {},
   "source": [
    "## WarmUp"
   ]
  },
  {
   "cell_type": "code",
   "execution_count": 37,
   "metadata": {},
   "outputs": [],
   "source": [
    "# How to use libraries?\n",
    "\n",
    "import pandas as pd # import with alias\n",
    "import numpy as np # Pandas uses numpy under the hood\n",
    "import matplotlib.pyplot as plt # Pandas uses is build on top of matplotlib\n",
    "import seaborn as sns # Pandas uses seaborn as well\n",
    "\n",
    "world_countries = pd.read_table(r\"D:\\Repositories\\Git_GitHub\\PandasAlexTheAnalyst\\countries of the world.txt\", sep=\"\\t\")"
   ]
  },
  {
   "cell_type": "code",
   "execution_count": 38,
   "metadata": {},
   "outputs": [
    {
     "name": "stdout",
     "output_type": "stream",
     "text": [
      "The name of the dog is Puppy, he is 10 years old. In human years he is 70.\n"
     ]
    }
   ],
   "source": [
    "# Get started with a Variable\n",
    "\n",
    "dog_name = \"Puppy\"\n",
    "age = 10\n",
    "\n",
    "print(f\"The name of the dog is {dog_name}, he is {age} years old. In human years he is {age * 7}.\")"
   ]
  },
  {
   "cell_type": "code",
   "execution_count": 39,
   "metadata": {},
   "outputs": [
    {
     "name": "stdout",
     "output_type": "stream",
     "text": [
      "100.0\n"
     ]
    }
   ],
   "source": [
    "x = 10\n",
    "\n",
    "x = x + 5\n",
    "x += 5  # Same as x = x + 5\n",
    "\n",
    "x = x - 2\n",
    "x -= 2  # Same as x = x - 2\n",
    "\n",
    "x = x * 5\n",
    "x *= 5  # Same as x = x * 5\n",
    "\n",
    "x = x / 2\n",
    "x /= 2  # Same as x = x / 2\n",
    "\n",
    "print(x)"
   ]
  },
  {
   "cell_type": "code",
   "execution_count": 40,
   "metadata": {},
   "outputs": [
    {
     "name": "stdout",
     "output_type": "stream",
     "text": [
      "Puppy likes ham, prosciutto, cheese, and any meat!"
     ]
    }
   ],
   "source": [
    "# Advanced customizing the Separator and End\n",
    "\n",
    "print(\"Puppy likes ham\", \"prosciutto\", \"cheese\", \"and any meat\", sep=\", \", end=\"!\")"
   ]
  },
  {
   "cell_type": "code",
   "execution_count": 41,
   "metadata": {},
   "outputs": [
    {
     "name": "stdout",
     "output_type": "stream",
     "text": [
      "Puppy likes ham:\n",
      "\t- prosciutto\n",
      "\t- cheese\n",
      "\t- and any meat!\n",
      "\n",
      "\"This is how to use double quotes\"\n"
     ]
    }
   ],
   "source": [
    "print(\"Puppy likes ham:\\n\", \"prosciutto\\n\", \"cheese\\n\", \"and any meat\", sep=\"\\t- \" ,end=\"!\")\n",
    "print(\"\\n\\n\\\"This is how to use double quotes\\\"\")"
   ]
  },
  {
   "cell_type": "code",
   "execution_count": 42,
   "metadata": {},
   "outputs": [
    {
     "name": "stdout",
     "output_type": "stream",
     "text": [
      "<class 'int'>\n",
      "<class 'float'>\n",
      "<class 'str'>\n",
      "<class 'bool'>\n"
     ]
    }
   ],
   "source": [
    "# Data Types\n",
    "\n",
    "age = 10\n",
    "temperature = 38.3\n",
    "dog_name = \"Puppy\"\n",
    "is_alive = True\n",
    "\n",
    "print(type(age))\n",
    "print(type(temperature))\n",
    "print(type(dog_name))\n",
    "print(type(is_alive))"
   ]
  },
  {
   "cell_type": "code",
   "execution_count": 43,
   "metadata": {},
   "outputs": [
    {
     "name": "stdout",
     "output_type": "stream",
     "text": [
      "Puppy fetches the ball\n"
     ]
    }
   ],
   "source": [
    "# STring Operations\n",
    "\n",
    "name = \"Puppy\"\n",
    "activity = \"fetches the ball\"\n",
    "\n",
    "sentence = name + \" \" + activity\n",
    "\n",
    "print(sentence)  # Output: Puppy fetches the ball"
   ]
  },
  {
   "cell_type": "code",
   "execution_count": 44,
   "metadata": {},
   "outputs": [
    {
     "name": "stdout",
     "output_type": "stream",
     "text": [
      "Puppy is not that old!\n"
     ]
    }
   ],
   "source": [
    "# Conditional Statement\n",
    "\n",
    "age = 10\n",
    "\n",
    "if age < 15:\n",
    "    print(\"Puppy is not that old!\")"
   ]
  },
  {
   "cell_type": "code",
   "execution_count": 45,
   "metadata": {},
   "outputs": [
    {
     "name": "stdout",
     "output_type": "stream",
     "text": [
      "Puppy is growing up!\n"
     ]
    }
   ],
   "source": [
    "age = 10\n",
    "if age < 5:\n",
    "    print(\"Puppy is still a baby.\")\n",
    "else:\n",
    "    print(\"Puppy is growing up!\")"
   ]
  },
  {
   "cell_type": "code",
   "execution_count": 46,
   "metadata": {},
   "outputs": [
    {
     "name": "stdout",
     "output_type": "stream",
     "text": [
      "Puppy is fully grown!\n"
     ]
    }
   ],
   "source": [
    "age = 10\n",
    "\n",
    "if age < 2:\n",
    "    print(\"Puppy is a newborn.\")\n",
    "elif age < 5:\n",
    "    print(\"Puppy is still very young.\")\n",
    "else:\n",
    "    print(\"Puppy is fully grown!\")"
   ]
  },
  {
   "cell_type": "code",
   "execution_count": null,
   "metadata": {},
   "outputs": [],
   "source": [
    "\"\"\"Python supports all common comparison operators:\n",
    "\n",
    "== Equal to\n",
    "!= Not equal to\n",
    ">  Greater than\n",
    "<  Less than\n",
    ">= Greater than or equal to \n",
    "<= Less than or equal to\"\"\""
   ]
  },
  {
   "cell_type": "code",
   "execution_count": 47,
   "metadata": {},
   "outputs": [
    {
     "name": "stdout",
     "output_type": "stream",
     "text": [
      "Puppy is either young or friendly!\n"
     ]
    }
   ],
   "source": [
    "# Comparison Operators\n",
    "\n",
    "age = 10\n",
    "is_friendly = True\n",
    "\n",
    "if age < 5 and is_friendly:\n",
    "    print(\"Puppy is a young and friendly dog!\")\n",
    "elif age >= 5 and not is_friendly:\n",
    "    print(\"Puppy is older and shy.\")\n",
    "elif age < 5 or is_friendly:\n",
    "    print(\"Puppy is either young or friendly!\")\n",
    "else:\n",
    "    print(\"Puppy has a unique personality!\")"
   ]
  },
  {
   "cell_type": "markdown",
   "metadata": {},
   "source": [
    "## Lists\n"
   ]
  },
  {
   "cell_type": "code",
   "execution_count": 48,
   "metadata": {},
   "outputs": [
    {
     "name": "stdout",
     "output_type": "stream",
     "text": [
      "['Puppy', 10, True]\n",
      "['ball', 'bone', 'frisbee']\n"
     ]
    }
   ],
   "source": [
    "dog_info = [] # Empty list \n",
    "dog_info = [\"Puppy\", 10, True]  # Name, age, is_friendly\n",
    "puppy_toys = [\"ball\", \"bone\", \"frisbee\"] \n",
    "\n",
    "print(dog_info)\n",
    "print(puppy_toys)"
   ]
  },
  {
   "cell_type": "code",
   "execution_count": 49,
   "metadata": {},
   "outputs": [
    {
     "name": "stdout",
     "output_type": "stream",
     "text": [
      "Puppy loves playing with bones!\n"
     ]
    }
   ],
   "source": [
    "#Checking if an Item Exists\n",
    "\n",
    "puppy_toys = [\"ball\", \"bone\", \"frisbee\"] \n",
    "\n",
    "if \"bone\" in puppy_toys:\n",
    "    print(\"Puppy loves playing with bones!\")"
   ]
  },
  {
   "cell_type": "code",
   "execution_count": 50,
   "metadata": {},
   "outputs": [
    {
     "name": "stdout",
     "output_type": "stream",
     "text": [
      "[['balls', 'bone'], ['frisbees', 'rope']]\n"
     ]
    }
   ],
   "source": [
    "# Nested Lists\n",
    "\n",
    "puppy_toys = [[\"balls\", \"bone\"], [\"frisbees\", \"rope\"]]\n",
    "\n",
    "print(puppy_toys)"
   ]
  },
  {
   "cell_type": "code",
   "execution_count": 52,
   "metadata": {},
   "outputs": [
    {
     "name": "stdout",
     "output_type": "stream",
     "text": [
      "ball\n",
      "frisbee\n"
     ]
    }
   ],
   "source": [
    "# List indexing and slicing\n",
    "puppy_toys = [\"ball\", \"bone\", \"frisbee\"]\n",
    "\n",
    "print(puppy_toys[0])\n",
    "print(puppy_toys[-1])"
   ]
  },
  {
   "cell_type": "code",
   "execution_count": 54,
   "metadata": {},
   "outputs": [
    {
     "name": "stdout",
     "output_type": "stream",
     "text": [
      "frisbee\n",
      "chew toy\n"
     ]
    }
   ],
   "source": [
    "nested_list = [['ball', 'bone'], ['frisbee', 'rope'], ['stick',\n",
    "               'chew toy']]\n",
    "print (nested_list[1][0])\n",
    "print (nested_list[2][1])"
   ]
  },
  {
   "cell_type": "code",
   "execution_count": 59,
   "metadata": {},
   "outputs": [
    {
     "name": "stdout",
     "output_type": "stream",
     "text": [
      "bone\n"
     ]
    }
   ],
   "source": [
    "deep_list = [[[\"ball\"], [\"bone\"]], [[\"frisbee\"], [\"rope\"]]]\n",
    "\n",
    "print(deep_list[0][1][0]) #The third Index [0] extracts the String \"bone\""
   ]
  },
  {
   "cell_type": "code",
   "execution_count": 60,
   "metadata": {},
   "outputs": [
    {
     "name": "stdout",
     "output_type": "stream",
     "text": [
      "['ball', 'frisbee', 'stick']\n",
      "['bone', 'rope']\n"
     ]
    }
   ],
   "source": [
    "puppy_toys = [\"ball\", \"bone\", \"frisbee\", \"rope\", \"stick\"]\n",
    "\n",
    "print(puppy_toys[::2])\n",
    "print(puppy_toys[1::2])"
   ]
  },
  {
   "cell_type": "code",
   "execution_count": 61,
   "metadata": {},
   "outputs": [
    {
     "name": "stdout",
     "output_type": "stream",
     "text": [
      "['stick', 'rope', 'frisbee', 'bone', 'ball']\n"
     ]
    }
   ],
   "source": [
    "puppy_toys = [\"ball\", \"bone\", \"frisbee\", \"rope\", \"stick\"]\n",
    "\n",
    "print(puppy_toys[::-1])"
   ]
  },
  {
   "cell_type": "code",
   "execution_count": 62,
   "metadata": {},
   "outputs": [
    {
     "name": "stdout",
     "output_type": "stream",
     "text": [
      "['ball', 'bone', 'rope']\n"
     ]
    }
   ],
   "source": [
    "# Operations in lists\n",
    "# Adding Items to a list\n",
    "\n",
    "puppy_toys = [\"ball\", \"bone\"]\n",
    "puppy_toys.append(\"rope\")\n",
    "\n",
    "print(puppy_toys)"
   ]
  },
  {
   "cell_type": "code",
   "execution_count": 63,
   "metadata": {},
   "outputs": [
    {
     "name": "stdout",
     "output_type": "stream",
     "text": [
      "['ball', 'frisbee', 'bone', 'rope']\n"
     ]
    }
   ],
   "source": [
    "puppy_toys.insert(1, \"frisbee\")\n",
    "\n",
    "print(puppy_toys)"
   ]
  },
  {
   "cell_type": "code",
   "execution_count": 64,
   "metadata": {},
   "outputs": [
    {
     "name": "stdout",
     "output_type": "stream",
     "text": [
      "['ball', 'frisbee', 'rope']\n"
     ]
    }
   ],
   "source": [
    "#Removing Items from a List\n",
    "\n",
    "puppy_toys.remove(\"bone\")\n",
    "\n",
    "print(puppy_toys)"
   ]
  },
  {
   "cell_type": "code",
   "execution_count": 65,
   "metadata": {},
   "outputs": [
    {
     "name": "stdout",
     "output_type": "stream",
     "text": [
      "rope\n"
     ]
    }
   ],
   "source": [
    "last_toy = puppy_toys.pop()\n",
    "\n",
    "print(last_toy)"
   ]
  },
  {
   "cell_type": "code",
   "execution_count": 66,
   "metadata": {},
   "outputs": [
    {
     "name": "stdout",
     "output_type": "stream",
     "text": [
      "['ball', 'bone', 'frisbee', 'rope']\n"
     ]
    }
   ],
   "source": [
    "#List operation\n",
    "list1 = [\"ball\", \"bone\"]\n",
    "list2 = [\"frisbee\", \"rope\"]\n",
    "combined = list1 + list2\n",
    "\n",
    "print(combined)"
   ]
  },
  {
   "cell_type": "code",
   "execution_count": 67,
   "metadata": {},
   "outputs": [
    {
     "name": "stdout",
     "output_type": "stream",
     "text": [
      "['ball', 'bone', 'ball', 'bone', 'ball', 'bone']\n"
     ]
    }
   ],
   "source": [
    "toys = [\"ball\", \"bone\"]\n",
    "\n",
    "print(toys * 3)"
   ]
  },
  {
   "cell_type": "code",
   "execution_count": 68,
   "metadata": {},
   "outputs": [
    {
     "name": "stdout",
     "output_type": "stream",
     "text": [
      "['ball', 'bone', 'frisbee']\n",
      "['frisbee', 'bone', 'ball']\n"
     ]
    }
   ],
   "source": [
    "puppy_toys = [\"ball\", \"bone\", \"frisbee\"]\n",
    "puppy_toys.sort()\n",
    "\n",
    "print(puppy_toys)\n",
    "\n",
    "puppy_toys.sort(reverse=True)\n",
    "print(puppy_toys) "
   ]
  },
  {
   "cell_type": "code",
   "execution_count": 69,
   "metadata": {},
   "outputs": [
    {
     "name": "stdout",
     "output_type": "stream",
     "text": [
      "5\n",
      "[100, 1, 2, 3, 4, 5, 100, 100, 101]\n",
      "[]\n"
     ]
    }
   ],
   "source": [
    "# Common List Methods\n",
    "\n",
    "# append() - adds an element to the end of the list\n",
    "# clear() - removes all the elements from the list\n",
    "# copy() - returns a copy of the list\n",
    "# count() - returns the number of elements with the specified value\n",
    "# extend() - add the elements of a list (or any iterable), to the end of the current list\n",
    "# index() - returns the index of the first element with the specified value\n",
    "# insert() - adds an element at the specified position\n",
    "# pop() - removes the element at the specified position\n",
    "# remove() - removes the first item with the specified value\n",
    "# reverse() - reverses the order of the list\n",
    "# sort() - sorts the list\n",
    "\n",
    "basket = [1,2,3,4,5]\n",
    "print(len(basket))\n",
    "\n",
    "# adding\n",
    "basket.append(100)\n",
    "basket.insert(0, 100)\n",
    "basket.extend([100,101])\n",
    "print(basket)\n",
    "\n",
    "# removing\n",
    "basket.pop()\n",
    "basket.pop(0)\n",
    "basket.remove(100)\n",
    "basket.clear()\n",
    "print(basket)\n",
    "\n"
   ]
  },
  {
   "cell_type": "markdown",
   "metadata": {},
   "source": [
    "## Loops"
   ]
  },
  {
   "cell_type": "code",
   "execution_count": 71,
   "metadata": {},
   "outputs": [
    {
     "name": "stdout",
     "output_type": "stream",
     "text": [
      "ball\n",
      "bone\n",
      "frisbee\n"
     ]
    }
   ],
   "source": [
    "# Loops Syntax: while  and for  loops\n",
    "\n",
    "puppy_toys = [\"ball\", \"bone\", \"frisbee\"]\n",
    "\n",
    "for toy in puppy_toys:\n",
    "    print(toy)\n"
   ]
  },
  {
   "cell_type": "code",
   "execution_count": 72,
   "metadata": {},
   "outputs": [
    {
     "name": "stdout",
     "output_type": "stream",
     "text": [
      "Fetching toy number 1\n",
      "Fetching toy number 2\n",
      "Fetching toy number 3\n"
     ]
    }
   ],
   "source": [
    "count = 0\n",
    "\n",
    "while count < 3:\n",
    "    count += 1\n",
    "    print(\"Fetching toy number\", count)"
   ]
  },
  {
   "cell_type": "code",
   "execution_count": 85,
   "metadata": {},
   "outputs": [
    {
     "name": "stdout",
     "output_type": "stream",
     "text": [
      "“Puppy napped 3 times this week.”\n"
     ]
    }
   ],
   "source": [
    "activities = [\n",
    "    'morning walk', 'nap', 'playtime',\n",
    "    'grooming', 'nap', 'fetch',\n",
    "    'nap time', 'dinner', 'cuddle',\n",
    "    ]\n",
    "\n",
    "nap_count = 0\n",
    "for activity in activities:\n",
    "    if \"nap\" in activity:\n",
    "        nap_count += 1\n",
    "print(f\"“Puppy napped {nap_count} times this week.”\")\n",
    "        \n"
   ]
  },
  {
   "cell_type": "markdown",
   "metadata": {},
   "source": [
    "## Dictionaries"
   ]
  },
  {
   "cell_type": "code",
   "execution_count": 87,
   "metadata": {},
   "outputs": [
    {
     "name": "stdout",
     "output_type": "stream",
     "text": [
      "{'name': 'Puppy', 'age': 10, 'breed': 'Poodle'}\n"
     ]
    }
   ],
   "source": [
    "# Empty dictionary\n",
    "puppy_info = {}\n",
    "\n",
    "# Dictionary with data\n",
    "puppy_info = { \"name\": \"Puppy\", \n",
    "               \"age\": 10, \n",
    "               \"breed\": \"Poodle\" }\n",
    "print(puppy_info)"
   ]
  },
  {
   "cell_type": "code",
   "execution_count": 88,
   "metadata": {},
   "outputs": [
    {
     "name": "stdout",
     "output_type": "stream",
     "text": [
      "Puppy\n",
      "Unknown\n"
     ]
    }
   ],
   "source": [
    "puppy_info = { \"name\": \"Puppy\", \n",
    "               \"age\": 10, \n",
    "               \"breed\": \"Poodle\" }\n",
    "\n",
    "# Accessing values               \n",
    "print(puppy_info[\"name\"])\n",
    "\n",
    "# Safely accessing keys using get()\n",
    "print(puppy_info.get(\"color\", \"Unknown\"))"
   ]
  },
  {
   "cell_type": "code",
   "execution_count": 89,
   "metadata": {},
   "outputs": [
    {
     "name": "stdout",
     "output_type": "stream",
     "text": [
      "{'name': 'Puppy', 'age': 11, 'breed': 'Poodle', 'color': 'black'}\n"
     ]
    }
   ],
   "source": [
    "# Adding new data\n",
    "puppy_info[\"color\"] = \"black\"\n",
    "\n",
    "# Updating existing data\n",
    "puppy_info[\"age\"] = 11\n",
    "\n",
    "print(puppy_info)"
   ]
  },
  {
   "cell_type": "code",
   "execution_count": 90,
   "metadata": {},
   "outputs": [
    {
     "name": "stdout",
     "output_type": "stream",
     "text": [
      "10\n",
      "{'name': 'Puppy', 'breed': 'Poodle'}\n"
     ]
    }
   ],
   "source": [
    "#Removing Items\n",
    "puppy_info = { \"name\": \"Puppy\", \n",
    "               \"age\": 10, \n",
    "               \"breed\": \"Poodle\" }\n",
    "\n",
    "removed_value = puppy_info.pop(\"age\")\n",
    "\n",
    "print(removed_value)  \n",
    "print(puppy_info) "
   ]
  },
  {
   "cell_type": "code",
   "execution_count": null,
   "metadata": {},
   "outputs": [],
   "source": [
    "#pop\n",
    "#del\n",
    "#clear\n",
    "#get()\n",
    "#keys()\n",
    "#values()\n",
    "#items()\n",
    "#update()\n",
    "#pop()\n",
    "#popitem()\n",
    "#setdefault()\n",
    "#copy()\n",
    "#clear()\n",
    "#update()\n",
    "#dict()\n",
    "#fromkeys()"
   ]
  },
  {
   "cell_type": "markdown",
   "metadata": {},
   "source": [
    "## Python libraries\n",
    "\n",
    "Libraries in Python are pre-written collections of code that extend the language's capabilities. Like toolboxes filled with specialized tools that help perform specific tasks more efficiently. They contain pre-written functions, classes, methods and other utilities.\n",
    "\n",
    "Why using libraries:\n",
    "\n",
    "    - Saving time by not reinventing the wheel\n",
    "    - Access specialized functionality\n",
    "    - Improve code efficiency\n",
    "    - Solve complex problems with less code"
   ]
  }
 ],
 "metadata": {
  "kernelspec": {
   "display_name": ".venv",
   "language": "python",
   "name": "python3"
  },
  "language_info": {
   "codemirror_mode": {
    "name": "ipython",
    "version": 3
   },
   "file_extension": ".py",
   "mimetype": "text/x-python",
   "name": "python",
   "nbconvert_exporter": "python",
   "pygments_lexer": "ipython3",
   "version": "3.12.6"
  }
 },
 "nbformat": 4,
 "nbformat_minor": 2
}
